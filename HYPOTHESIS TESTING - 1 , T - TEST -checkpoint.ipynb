{
 "cells": [
  {
   "cell_type": "markdown",
   "id": "095b577b",
   "metadata": {},
   "source": [
    "# T-TEST "
   ]
  },
  {
   "cell_type": "code",
   "execution_count": 1,
   "id": "c5a7775a",
   "metadata": {},
   "outputs": [],
   "source": [
    "import scipy.stats as stats\n",
    "import numpy as np"
   ]
  },
  {
   "cell_type": "markdown",
   "id": "75c3ca2d",
   "metadata": {},
   "source": [
    "## Bombay hospitality Ltd. operates a franchise model for producing exotic Norwegian dinners throughout New England. The operating cost for a franchise in a week (W) is given by the equation W = $1,000 + $5X, where X represents the number of units produced in a week. Recent feedback from restaurant owners suggests that this cost model may no longer be accurate, as their observed weekly operating costs are higher."
   ]
  },
  {
   "cell_type": "markdown",
   "id": "472b3bb7",
   "metadata": {},
   "source": [
    "## 1. State the Hypotheses statement:"
   ]
  },
  {
   "cell_type": "code",
   "execution_count": 2,
   "id": "beecb76b",
   "metadata": {},
   "outputs": [],
   "source": [
    "## ho :- feedback from restaurant owners suggests that this cost model is accurate , as their observed weekly operating costs is not higher.\n",
    "## ha :- feedback from restaurant owners suggests that this cost model may no longer be accurate , as their observed weekly operating costs are higher."
   ]
  },
  {
   "cell_type": "markdown",
   "id": "aadc4574",
   "metadata": {},
   "source": [
    "## 2. Calculate the Test Statistic:"
   ]
  },
  {
   "cell_type": "markdown",
   "id": "4d2d1e70",
   "metadata": {},
   "source": [
    "### Firstly , we'll be doing this by using random numbers"
   ]
  },
  {
   "cell_type": "code",
   "execution_count": 3,
   "id": "0af227de",
   "metadata": {},
   "outputs": [
    {
     "data": {
      "text/plain": [
       "array([3052.44671401, 3066.06478992, 2999.0866471 , 2884.83423082,\n",
       "       3143.59470471, 3017.05197457, 3155.78374563, 2987.23221093,\n",
       "       3180.95735291, 2900.50160667, 2904.70385209, 3003.02533702,\n",
       "       2869.15427922, 3066.12086263, 2998.122314  , 2975.31106484,\n",
       "       3226.98741983, 3143.31581287, 2828.96567585, 3039.58966827,\n",
       "       3022.90711973, 3113.44222127, 2934.55531812, 3113.26171906,\n",
       "       2863.89918889])"
      ]
     },
     "execution_count": 3,
     "metadata": {},
     "output_type": "execute_result"
    }
   ],
   "source": [
    "sample=stats.norm.rvs(size=25,loc=3050,scale=125)     # here size = n , loc = x_bar , scale = std_dev\n",
    "sample"
   ]
  },
  {
   "cell_type": "code",
   "execution_count": 4,
   "id": "1c2125c1",
   "metadata": {},
   "outputs": [],
   "source": [
    "# pop_mean = 1000 + 5 * x , where x = 600\n",
    "# pop_mean = 4000"
   ]
  },
  {
   "cell_type": "code",
   "execution_count": 5,
   "id": "c9429c3a",
   "metadata": {},
   "outputs": [
    {
     "data": {
      "text/plain": [
       "4000"
      ]
     },
     "execution_count": 5,
     "metadata": {},
     "output_type": "execute_result"
    }
   ],
   "source": [
    "pop_mean=4000\n",
    "pop_mean"
   ]
  },
  {
   "cell_type": "code",
   "execution_count": 6,
   "id": "bb806be5",
   "metadata": {},
   "outputs": [
    {
     "data": {
      "text/plain": [
       "Ttest_1sampResult(statistic=-45.23410294449019, pvalue=9.55491283696806e-25)"
      ]
     },
     "execution_count": 6,
     "metadata": {},
     "output_type": "execute_result"
    }
   ],
   "source": [
    "stats.ttest_1samp(sample,popmean=pop_mean)"
   ]
  },
  {
   "cell_type": "markdown",
   "id": "6ac43f01",
   "metadata": {},
   "source": [
    "###  another way by formula"
   ]
  },
  {
   "cell_type": "code",
   "execution_count": 7,
   "id": "ebf70bdc",
   "metadata": {},
   "outputs": [],
   "source": [
    "x_bar = 3050\n",
    "std_dev = 125\n",
    "n = 25\n",
    "pop_mean = 4000"
   ]
  },
  {
   "cell_type": "code",
   "execution_count": 8,
   "id": "dbe38d9b",
   "metadata": {},
   "outputs": [
    {
     "data": {
      "text/plain": [
       "-38.0"
      ]
     },
     "execution_count": 8,
     "metadata": {},
     "output_type": "execute_result"
    }
   ],
   "source": [
    "tstats = (x_bar - pop_mean) / (std_dev/np.sqrt(n))          # formula to find tstats\n",
    "tstats"
   ]
  },
  {
   "cell_type": "markdown",
   "id": "86aa3bc4",
   "metadata": {},
   "source": [
    "##  3. Determine the Critical Value:"
   ]
  },
  {
   "cell_type": "code",
   "execution_count": 9,
   "id": "05a836dd",
   "metadata": {},
   "outputs": [
    {
     "data": {
      "text/plain": [
       "1.7108820799094275"
      ]
     },
     "execution_count": 9,
     "metadata": {},
     "output_type": "execute_result"
    }
   ],
   "source": [
    "t_critical = stats.t.ppf(0.95,24)       # here , df = 24 , because df = n-1 & n = 25 so , 25-1 = 24\n",
    "t_critical "
   ]
  },
  {
   "cell_type": "markdown",
   "id": "606c1d1b",
   "metadata": {},
   "source": [
    "## 4. Make a Decision:"
   ]
  },
  {
   "cell_type": "code",
   "execution_count": 10,
   "id": "ad954914",
   "metadata": {},
   "outputs": [],
   "source": [
    "# since tcritical > tstats , fail to reject ho.\n",
    "# hence ,  feedback from restaurant owners suggests that this cost model is accurate , as their observed weekly operating costs is not higher."
   ]
  },
  {
   "cell_type": "code",
   "execution_count": 11,
   "id": "071bb079",
   "metadata": {},
   "outputs": [],
   "source": [
    "## end"
   ]
  }
 ],
 "metadata": {
  "kernelspec": {
   "display_name": "Python 3 (ipykernel)",
   "language": "python",
   "name": "python3"
  },
  "language_info": {
   "codemirror_mode": {
    "name": "ipython",
    "version": 3
   },
   "file_extension": ".py",
   "mimetype": "text/x-python",
   "name": "python",
   "nbconvert_exporter": "python",
   "pygments_lexer": "ipython3",
   "version": "3.12.7"
  }
 },
 "nbformat": 4,
 "nbformat_minor": 5
}
