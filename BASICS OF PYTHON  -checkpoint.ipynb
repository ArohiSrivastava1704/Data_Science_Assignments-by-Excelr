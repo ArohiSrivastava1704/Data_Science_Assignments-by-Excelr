{
 "cells": [
  {
   "cell_type": "markdown",
   "id": "fad289ca",
   "metadata": {},
   "source": [
    "## Exercise 1: Prime Numbers\n",
    "Write a Python program that checks whether a given number is prime or not. A prime number is a natural number greater than 1 that has no positive divisors other than 1 and itself."
   ]
  },
  {
   "cell_type": "code",
   "execution_count": 1,
   "id": "7e894d71",
   "metadata": {},
   "outputs": [
    {
     "name": "stdout",
     "output_type": "stream",
     "text": [
      "enter a number:8\n",
      "the prime number is: false , not a prime number\n"
     ]
    }
   ],
   "source": [
    "num=int(input(\"enter a number:\",))\n",
    "def is_prime(num):\n",
    "    if num <= 1:                    # here , num<=1 denotes that if any number will be lesser than 1 then o/p must come false\n",
    "        return \"false number\"\n",
    "    for i in range(2,num):\n",
    "        if num % i == 0:\n",
    "            return \"false , not a prime number\"\n",
    "    return \"true , it's a prime number\"\n",
    "\n",
    "prime_number=is_prime(num)\n",
    "print(\"the prime number is:\",prime_number)"
   ]
  },
  {
   "cell_type": "markdown",
   "id": "5b5f035f",
   "metadata": {},
   "source": [
    "## Exercise 2: Product of Random Numbers\n",
    "Develop a Python program that generates two random numbers and asks the user to enter the product of these numbers. The program should then check if the user's answer is correct and display an appropriate message."
   ]
  },
  {
   "cell_type": "code",
   "execution_count": 2,
   "id": "2cc1a584",
   "metadata": {},
   "outputs": [],
   "source": [
    "import numpy as np"
   ]
  },
  {
   "cell_type": "code",
   "execution_count": 3,
   "id": "575b584a",
   "metadata": {},
   "outputs": [],
   "source": [
    "# to find any random number use random.randint\n",
    "# eg :- \n",
    "#   np.random.randint(100,150) "
   ]
  },
  {
   "cell_type": "code",
   "execution_count": 4,
   "id": "131fb79f",
   "metadata": {},
   "outputs": [
    {
     "name": "stdout",
     "output_type": "stream",
     "text": [
      "what is the product of the 45 * 14? 9\n",
      "not correct\n"
     ]
    }
   ],
   "source": [
    "num1 = np.random.randint(10,50)          # here , i want the random value in between 10-50\n",
    "num2 = np.random.randint(10,50)\n",
    "\n",
    "actual_num = num1*num2\n",
    "\n",
    "user_ans = int(input(f\"what is the product of the {num1} * {num2}? \")) # Ask the user to enter the product of the two numbers\n",
    "               \n",
    "if user_ans == actual_num:     # Check if the user's answer is correct\n",
    "     print (\"correct\")\n",
    "else :\n",
    "    print (\"not correct\")"
   ]
  },
  {
   "cell_type": "markdown",
   "id": "568fe7bc",
   "metadata": {},
   "source": [
    "## Exercise 3: Squares of Even/Odd Numbers\n",
    "Create a Python script that prints the squares of all even or odd numbers within the range of 100 to 200. Choose either even or odd numbers and document your choice in the code."
   ]
  },
  {
   "cell_type": "code",
   "execution_count": 5,
   "id": "b7e37dbf",
   "metadata": {},
   "outputs": [
    {
     "name": "stdout",
     "output_type": "stream",
     "text": [
      "Squares of odd numbers are:\n",
      "The square of 101 is 10201\n",
      "The square of 103 is 10609\n",
      "The square of 105 is 11025\n",
      "The square of 107 is 11449\n",
      "The square of 109 is 11881\n",
      "The square of 111 is 12321\n",
      "The square of 113 is 12769\n",
      "The square of 115 is 13225\n",
      "The square of 117 is 13689\n",
      "The square of 119 is 14161\n",
      "The square of 121 is 14641\n",
      "The square of 123 is 15129\n",
      "The square of 125 is 15625\n",
      "The square of 127 is 16129\n",
      "The square of 129 is 16641\n",
      "The square of 131 is 17161\n",
      "The square of 133 is 17689\n",
      "The square of 135 is 18225\n",
      "The square of 137 is 18769\n",
      "The square of 139 is 19321\n",
      "The square of 141 is 19881\n",
      "The square of 143 is 20449\n",
      "The square of 145 is 21025\n",
      "The square of 147 is 21609\n",
      "The square of 149 is 22201\n",
      "The square of 151 is 22801\n",
      "The square of 153 is 23409\n",
      "The square of 155 is 24025\n",
      "The square of 157 is 24649\n",
      "The square of 159 is 25281\n",
      "The square of 161 is 25921\n",
      "The square of 163 is 26569\n",
      "The square of 165 is 27225\n",
      "The square of 167 is 27889\n",
      "The square of 169 is 28561\n",
      "The square of 171 is 29241\n",
      "The square of 173 is 29929\n",
      "The square of 175 is 30625\n",
      "The square of 177 is 31329\n",
      "The square of 179 is 32041\n",
      "The square of 181 is 32761\n",
      "The square of 183 is 33489\n",
      "The square of 185 is 34225\n",
      "The square of 187 is 34969\n",
      "The square of 189 is 35721\n",
      "The square of 191 is 36481\n",
      "The square of 193 is 37249\n",
      "The square of 195 is 38025\n",
      "The square of 197 is 38809\n",
      "The square of 199 is 39601\n"
     ]
    }
   ],
   "source": [
    "# for odd\n",
    "\n",
    "num1 = 100\n",
    "num2 = 200\n",
    "\n",
    "def is_square(num1, num2):\n",
    "    print(\"Squares of odd numbers are:\")\n",
    "    for num in range(num1, num2 + 1):\n",
    "        if num % 2 != 0:  # Check if `num` is odd\n",
    "            print(f\"The square of {num} is {num ** 2}\")\n",
    "\n",
    "# Calling the function\n",
    "is_square(num1, num2)\n"
   ]
  },
  {
   "cell_type": "markdown",
   "id": "4ebd2296",
   "metadata": {},
   "source": [
    "## Exercise 4: Word counter\n",
    "write a program to count the number of words in a given text.\n",
    "example:\n",
    "input_text = \"This is a sample text. This text will be used to demonstrate the word counter.\""
   ]
  },
  {
   "cell_type": "code",
   "execution_count": 6,
   "id": "6c22f863",
   "metadata": {},
   "outputs": [
    {
     "name": "stdout",
     "output_type": "stream",
     "text": [
      "Word counts:\n",
      "'This': 2\n",
      "'is': 1\n",
      "'a': 1\n",
      "'sample': 1\n",
      "'text': 2\n",
      "'will': 1\n",
      "'be': 1\n",
      "'used': 1\n",
      "'to': 1\n",
      "'demonstrate': 1\n",
      "'the': 1\n",
      "'word': 1\n",
      "'counter': 1\n"
     ]
    }
   ],
   "source": [
    "input_text = \"This is a sample text. This text will be used to demonstrate the word counter.\"\n",
    "\n",
    "def word_count(text):\n",
    "    for char in '.,!?;':\n",
    "        text = text.replace(char, '')  # Remove specific punctuation characters\n",
    "\n",
    "    words = text.split()  # Split the text into words\n",
    "    \n",
    "    # Create a dictionary to store word counts\n",
    "    word_counts = {}\n",
    "    \n",
    "    # Count occurrences of each word\n",
    "    for word in words:\n",
    "        word_counts[word] = word_counts.get(word, 0) + 1  # Increment count\n",
    "\n",
    "    return word_counts\n",
    "\n",
    "\n",
    "word_count_result = word_count(input_text)\n",
    "\n",
    "print(\"Word counts:\")\n",
    "for word, count in word_count_result.items():\n",
    "    print(f\"'{word}': {count}\")\n"
   ]
  },
  {
   "cell_type": "markdown",
   "id": "d1732255",
   "metadata": {},
   "source": [
    "## Exercise 5: Check for Palindrome\n",
    "Write a Python function called is_palindrome that takes a string as input and returns True if the string is a palindrome, and False otherwise. A palindrome is a word, phrase, number, or other sequence of characters that reads the same forward and backward, ignoring spaces, punctuation, and capitalization."
   ]
  },
  {
   "cell_type": "code",
   "execution_count": 7,
   "id": "f35d1686",
   "metadata": {},
   "outputs": [
    {
     "name": "stdout",
     "output_type": "stream",
     "text": [
      "True\n"
     ]
    }
   ],
   "source": [
    "input_text = \"racecar\"\n",
    "\n",
    "def is_palindrome(text):\n",
    "    return text == text[::-1]  # Check if the text reads the same forwards and backwards\n",
    "\n",
    "print (is_palindrome(input_text))"
   ]
  },
  {
   "cell_type": "code",
   "execution_count": null,
   "id": "108b969d",
   "metadata": {},
   "outputs": [],
   "source": [
    "##  end"
   ]
  }
 ],
 "metadata": {
  "kernelspec": {
   "display_name": "Python 3 (ipykernel)",
   "language": "python",
   "name": "python3"
  },
  "language_info": {
   "codemirror_mode": {
    "name": "ipython",
    "version": 3
   },
   "file_extension": ".py",
   "mimetype": "text/x-python",
   "name": "python",
   "nbconvert_exporter": "python",
   "pygments_lexer": "ipython3",
   "version": "3.12.7"
  }
 },
 "nbformat": 4,
 "nbformat_minor": 5
}
