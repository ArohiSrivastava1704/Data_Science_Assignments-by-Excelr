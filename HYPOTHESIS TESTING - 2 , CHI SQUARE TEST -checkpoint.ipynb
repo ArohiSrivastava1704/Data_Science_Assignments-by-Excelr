{
 "cells": [
  {
   "cell_type": "markdown",
   "id": "b56566d2",
   "metadata": {},
   "source": [
    "# CHI SQUARE TEST"
   ]
  },
  {
   "cell_type": "code",
   "execution_count": 1,
   "id": "b5066ac9",
   "metadata": {},
   "outputs": [],
   "source": [
    "import numpy as np\n",
    "import scipy.stats as stats"
   ]
  },
  {
   "cell_type": "markdown",
   "id": "6c2955e8",
   "metadata": {},
   "source": [
    "## Mizzare Corporation has collected data on customer satisfaction levels for two types of smart home devices: Smart Thermostats and Smart Lights. They want to determine if there's a significant association between the type of device purchased and the customer's satisfaction level."
   ]
  },
  {
   "cell_type": "markdown",
   "id": "58d8fc49",
   "metadata": {},
   "source": [
    "Satisfaction\t  Smart Thermostat\t  Smart Light \t  Total\n",
    "Very Satisfied\t       50               70             120\n",
    "Satisfied\t           80               100            180\n",
    "Neutral\t               60\t            90             150\n",
    "Unsatisfied        \t   30\t            50\t           80\n",
    "Very Unsatisfied\t   20\t            50\t           70\n",
    "Total\t               240\t            360\t           600"
   ]
  },
  {
   "cell_type": "markdown",
   "id": "4703c0bb",
   "metadata": {},
   "source": [
    "## 1. State the Hypotheses:"
   ]
  },
  {
   "cell_type": "code",
   "execution_count": 2,
   "id": "d08e0635",
   "metadata": {},
   "outputs": [],
   "source": [
    "# ho :- No , there's no significant association between the type of device purchased and the customer's satisfaction level.\n",
    "# ha :- there's a significant association between the type of device purchased and the customer's satisfaction level."
   ]
  },
  {
   "cell_type": "code",
   "execution_count": 3,
   "id": "874c8859",
   "metadata": {},
   "outputs": [
    {
     "data": {
      "text/plain": [
       "array([[ 50,  70],\n",
       "       [ 80, 100],\n",
       "       [ 60,  90],\n",
       "       [ 30,  50],\n",
       "       [ 20,  50]])"
      ]
     },
     "execution_count": 3,
     "metadata": {},
     "output_type": "execute_result"
    }
   ],
   "source": [
    "observed = np.array([[50, 70],\n",
    "                     [80, 100],\n",
    "                     [60, 90],\n",
    "                     [30, 50],\n",
    "                     [20, 50]])\n",
    "observed"
   ]
  },
  {
   "cell_type": "code",
   "execution_count": 4,
   "id": "fd9a392b",
   "metadata": {},
   "outputs": [],
   "source": [
    "# to find expected value"
   ]
  },
  {
   "cell_type": "markdown",
   "id": "0b682bdc",
   "metadata": {},
   "source": [
    "## 2. Compute the Chi-Square Statistic:"
   ]
  },
  {
   "cell_type": "code",
   "execution_count": 5,
   "id": "28688f33",
   "metadata": {},
   "outputs": [
    {
     "data": {
      "text/plain": [
       "(5.638227513227513,\n",
       " 0.22784371130697179,\n",
       " 4,\n",
       " array([[ 48.,  72.],\n",
       "        [ 72., 108.],\n",
       "        [ 60.,  90.],\n",
       "        [ 32.,  48.],\n",
       "        [ 28.,  42.]]))"
      ]
     },
     "execution_count": 5,
     "metadata": {},
     "output_type": "execute_result"
    }
   ],
   "source": [
    "chi_stats = stats.chi2_contingency(observed)\n",
    "chi_stats"
   ]
  },
  {
   "cell_type": "code",
   "execution_count": 6,
   "id": "6e385cfb",
   "metadata": {},
   "outputs": [],
   "source": [
    "# df = 4 "
   ]
  },
  {
   "cell_type": "markdown",
   "id": "47106a60",
   "metadata": {},
   "source": [
    "## 3. Determine the Critical Value:"
   ]
  },
  {
   "cell_type": "code",
   "execution_count": 7,
   "id": "e995e48a",
   "metadata": {},
   "outputs": [
    {
     "data": {
      "text/plain": [
       "9.487729036781154"
      ]
     },
     "execution_count": 7,
     "metadata": {},
     "output_type": "execute_result"
    }
   ],
   "source": [
    "chi_critical = stats.chi2.ppf(0.95,4)\n",
    "chi_critical"
   ]
  },
  {
   "cell_type": "markdown",
   "id": "6e5bfe62",
   "metadata": {},
   "source": [
    "## 4. Make a Decision:"
   ]
  },
  {
   "cell_type": "code",
   "execution_count": 8,
   "id": "0e5b6b5c",
   "metadata": {},
   "outputs": [],
   "source": [
    "# since , chi_critical > chi_stats , fail to reject ho\n",
    "# hence , there's a significant association between the type of device purchased and the customer's satisfaction level."
   ]
  },
  {
   "cell_type": "code",
   "execution_count": null,
   "id": "8f82d43c",
   "metadata": {},
   "outputs": [],
   "source": [
    "## end"
   ]
  }
 ],
 "metadata": {
  "kernelspec": {
   "display_name": "Python 3 (ipykernel)",
   "language": "python",
   "name": "python3"
  },
  "language_info": {
   "codemirror_mode": {
    "name": "ipython",
    "version": 3
   },
   "file_extension": ".py",
   "mimetype": "text/x-python",
   "name": "python",
   "nbconvert_exporter": "python",
   "pygments_lexer": "ipython3",
   "version": "3.12.7"
  }
 },
 "nbformat": 4,
 "nbformat_minor": 5
}
