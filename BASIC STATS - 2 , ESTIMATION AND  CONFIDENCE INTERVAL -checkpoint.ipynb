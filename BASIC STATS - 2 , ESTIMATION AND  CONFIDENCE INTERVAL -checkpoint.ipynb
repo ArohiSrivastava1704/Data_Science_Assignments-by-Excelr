{
 "cells": [
  {
   "cell_type": "code",
   "execution_count": 1,
   "id": "7b90372e",
   "metadata": {},
   "outputs": [],
   "source": [
    "import numpy as np"
   ]
  },
  {
   "cell_type": "code",
   "execution_count": 2,
   "id": "facf5f18",
   "metadata": {},
   "outputs": [
    {
     "data": {
      "text/plain": [
       "array([1.13, 1.55, 1.43, 0.92, 1.25, 1.36, 1.32, 0.85, 1.07, 1.48, 1.2 ,\n",
       "       1.33, 1.18, 1.22, 1.29])"
      ]
     },
     "execution_count": 2,
     "metadata": {},
     "output_type": "execute_result"
    }
   ],
   "source": [
    "data = np.array([1.13, 1.55, 1.43, 0.92, 1.25, 1.36, 1.32, 0.85, 1.07, 1.48, 1.20, 1.33, 1.18, 1.22, 1.29])\n",
    "data"
   ]
  },
  {
   "cell_type": "markdown",
   "id": "717e4e48",
   "metadata": {},
   "source": [
    "## a.  CONFIDENCE INTERVAL AT 99% USING SAMPLE STD_DEV"
   ]
  },
  {
   "cell_type": "code",
   "execution_count": 3,
   "id": "a5158aa3",
   "metadata": {},
   "outputs": [
    {
     "data": {
      "text/plain": [
       "1.2386666666666666"
      ]
     },
     "execution_count": 3,
     "metadata": {},
     "output_type": "execute_result"
    }
   ],
   "source": [
    "np.mean(data)"
   ]
  },
  {
   "cell_type": "code",
   "execution_count": 4,
   "id": "9ce34345",
   "metadata": {},
   "outputs": [
    {
     "data": {
      "text/plain": [
       "0.18661427836285438"
      ]
     },
     "execution_count": 4,
     "metadata": {},
     "output_type": "execute_result"
    }
   ],
   "source": [
    "np.std(data)"
   ]
  },
  {
   "cell_type": "code",
   "execution_count": 5,
   "id": "05030908",
   "metadata": {},
   "outputs": [
    {
     "data": {
      "text/plain": [
       "15"
      ]
     },
     "execution_count": 5,
     "metadata": {},
     "output_type": "execute_result"
    }
   ],
   "source": [
    "len(data)"
   ]
  },
  {
   "cell_type": "code",
   "execution_count": 6,
   "id": "391e1af5",
   "metadata": {},
   "outputs": [],
   "source": [
    "## sample_std_dev = 0.186\n",
    "## sample_size = 15\n",
    "## sample_mean / x_bar = 1.23"
   ]
  },
  {
   "cell_type": "code",
   "execution_count": 7,
   "id": "42045e54",
   "metadata": {},
   "outputs": [],
   "source": [
    "import scipy.stats as stats"
   ]
  },
  {
   "cell_type": "code",
   "execution_count": 8,
   "id": "92c16ad8",
   "metadata": {},
   "outputs": [
    {
     "data": {
      "text/plain": [
       "2.1447866879169273"
      ]
     },
     "execution_count": 8,
     "metadata": {},
     "output_type": "execute_result"
    }
   ],
   "source": [
    "t_critical_99 = stats.t.ppf(0.975,14)      # we'll take alpha = 0.5 because it is not given so we'll assume it , df=n-1\n",
    "t_critical_99"
   ]
  },
  {
   "cell_type": "markdown",
   "id": "8be99098",
   "metadata": {},
   "source": [
    "### Formula :- x_bar+- tcritical*s/sqrt(n)"
   ]
  },
  {
   "cell_type": "code",
   "execution_count": 9,
   "id": "f1ba9e4e",
   "metadata": {},
   "outputs": [
    {
     "data": {
      "text/plain": [
       "1.1269966332689767"
      ]
     },
     "execution_count": 9,
     "metadata": {},
     "output_type": "execute_result"
    }
   ],
   "source": [
    "sample_mean_lower_99 = 1.23-(t_critical_99*(0.186/np.sqrt(15)))\n",
    "sample_mean_lower_99"
   ]
  },
  {
   "cell_type": "code",
   "execution_count": 10,
   "id": "518d8810",
   "metadata": {},
   "outputs": [
    {
     "data": {
      "text/plain": [
       "1.3330033667310233"
      ]
     },
     "execution_count": 10,
     "metadata": {},
     "output_type": "execute_result"
    }
   ],
   "source": [
    "sample_mean_upper_99 = 1.23+(t_critical_99*(0.186/np.sqrt(15)))\n",
    "sample_mean_upper_99"
   ]
  },
  {
   "cell_type": "markdown",
   "id": "21b8a6f7",
   "metadata": {},
   "source": [
    "### Margin of Error :- tcritical * std_dev/sqrt(n)"
   ]
  },
  {
   "cell_type": "code",
   "execution_count": 11,
   "id": "814bfe28",
   "metadata": {},
   "outputs": [
    {
     "data": {
      "text/plain": [
       "0.12603679292295564"
      ]
     },
     "execution_count": 11,
     "metadata": {},
     "output_type": "execute_result"
    }
   ],
   "source": [
    "2.6244 * 0.186 / np.sqrt(15)"
   ]
  },
  {
   "cell_type": "markdown",
   "id": "50332d4e",
   "metadata": {},
   "source": [
    "## b. CONVIDENCE INTERVAL AT 99% USING POPULATION STD_DEV"
   ]
  },
  {
   "cell_type": "code",
   "execution_count": 12,
   "id": "75f6576f",
   "metadata": {},
   "outputs": [
    {
     "data": {
      "text/plain": [
       "1.2386666666666666"
      ]
     },
     "execution_count": 12,
     "metadata": {},
     "output_type": "execute_result"
    }
   ],
   "source": [
    "np.mean(data)"
   ]
  },
  {
   "cell_type": "code",
   "execution_count": 13,
   "id": "50138dc9",
   "metadata": {},
   "outputs": [
    {
     "data": {
      "text/plain": [
       "15"
      ]
     },
     "execution_count": 13,
     "metadata": {},
     "output_type": "execute_result"
    }
   ],
   "source": [
    "len(data)"
   ]
  },
  {
   "cell_type": "code",
   "execution_count": 14,
   "id": "8fad56f7",
   "metadata": {},
   "outputs": [
    {
     "data": {
      "text/plain": [
       "0.2"
      ]
     },
     "execution_count": 14,
     "metadata": {},
     "output_type": "execute_result"
    }
   ],
   "source": [
    "std_dev = 0.2  # given\n",
    "std_dev"
   ]
  },
  {
   "cell_type": "code",
   "execution_count": 15,
   "id": "e9b124e7",
   "metadata": {},
   "outputs": [],
   "source": [
    "## pop_std_dev = 0.2\n",
    "## sample_size = 15\n",
    "## mean / x_bar = 1.23"
   ]
  },
  {
   "cell_type": "code",
   "execution_count": 16,
   "id": "7d680be7",
   "metadata": {},
   "outputs": [
    {
     "data": {
      "text/plain": [
       "1.959963984540054"
      ]
     },
     "execution_count": 16,
     "metadata": {},
     "output_type": "execute_result"
    }
   ],
   "source": [
    "z_critical_99 = stats.norm.ppf(0.975)      # we'll take alpha = 0.5 because it is not given so we'll assume it\n",
    "z_critical_99"
   ]
  },
  {
   "cell_type": "markdown",
   "id": "559054ff",
   "metadata": {},
   "source": [
    "###  Formula :- x_bar+- zcritical*s/sqrt(n)"
   ]
  },
  {
   "cell_type": "code",
   "execution_count": 17,
   "id": "fee5a323",
   "metadata": {},
   "outputs": [
    {
     "data": {
      "text/plain": [
       "1.1287878950494672"
      ]
     },
     "execution_count": 17,
     "metadata": {},
     "output_type": "execute_result"
    }
   ],
   "source": [
    "pop_mean_lower_99 = 1.23-(z_critical_99*(0.2/np.sqrt(15)))\n",
    "pop_mean_lower_99"
   ]
  },
  {
   "cell_type": "code",
   "execution_count": 18,
   "id": "13a98fd3",
   "metadata": {},
   "outputs": [
    {
     "data": {
      "text/plain": [
       "1.3312121049505328"
      ]
     },
     "execution_count": 18,
     "metadata": {},
     "output_type": "execute_result"
    }
   ],
   "source": [
    "pop_mean_upper_99 = 1.23+(z_critical_99*(0.2/np.sqrt(15)))\n",
    "pop_mean_upper_99"
   ]
  },
  {
   "cell_type": "code",
   "execution_count": 19,
   "id": "805c2ca7",
   "metadata": {},
   "outputs": [],
   "source": [
    "# end"
   ]
  }
 ],
 "metadata": {
  "kernelspec": {
   "display_name": "Python 3 (ipykernel)",
   "language": "python",
   "name": "python3"
  },
  "language_info": {
   "codemirror_mode": {
    "name": "ipython",
    "version": 3
   },
   "file_extension": ".py",
   "mimetype": "text/x-python",
   "name": "python",
   "nbconvert_exporter": "python",
   "pygments_lexer": "ipython3",
   "version": "3.12.7"
  }
 },
 "nbformat": 4,
 "nbformat_minor": 5
}
