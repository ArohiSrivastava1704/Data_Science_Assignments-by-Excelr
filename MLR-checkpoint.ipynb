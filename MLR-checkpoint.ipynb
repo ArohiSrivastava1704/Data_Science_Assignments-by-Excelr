{
 "cells": [
  {
   "cell_type": "code",
   "execution_count": 1,
   "id": "358d4b5b",
   "metadata": {},
   "outputs": [],
   "source": [
    "import pandas as pd\n",
    "import numpy as np\n",
    "import matplotlib.pyplot as plt\n",
    "import seaborn as sns"
   ]
  },
  {
   "cell_type": "code",
   "execution_count": 2,
   "id": "c82e3f72",
   "metadata": {},
   "outputs": [],
   "source": [
    "df=pd.read_csv(\"ToyotaCorolla - MLR.csv\")"
   ]
  },
  {
   "cell_type": "code",
   "execution_count": 3,
   "id": "559f2f93",
   "metadata": {},
   "outputs": [
    {
     "data": {
      "text/html": [
       "<div>\n",
       "<style scoped>\n",
       "    .dataframe tbody tr th:only-of-type {\n",
       "        vertical-align: middle;\n",
       "    }\n",
       "\n",
       "    .dataframe tbody tr th {\n",
       "        vertical-align: top;\n",
       "    }\n",
       "\n",
       "    .dataframe thead th {\n",
       "        text-align: right;\n",
       "    }\n",
       "</style>\n",
       "<table border=\"1\" class=\"dataframe\">\n",
       "  <thead>\n",
       "    <tr style=\"text-align: right;\">\n",
       "      <th></th>\n",
       "      <th>Price</th>\n",
       "      <th>Age_08_04</th>\n",
       "      <th>KM</th>\n",
       "      <th>Fuel_Type</th>\n",
       "      <th>HP</th>\n",
       "      <th>Automatic</th>\n",
       "      <th>cc</th>\n",
       "      <th>Doors</th>\n",
       "      <th>Cylinders</th>\n",
       "      <th>Gears</th>\n",
       "      <th>Weight</th>\n",
       "    </tr>\n",
       "  </thead>\n",
       "  <tbody>\n",
       "    <tr>\n",
       "      <th>0</th>\n",
       "      <td>13500</td>\n",
       "      <td>23</td>\n",
       "      <td>46986</td>\n",
       "      <td>Diesel</td>\n",
       "      <td>90</td>\n",
       "      <td>0</td>\n",
       "      <td>2000</td>\n",
       "      <td>3</td>\n",
       "      <td>4</td>\n",
       "      <td>5</td>\n",
       "      <td>1165</td>\n",
       "    </tr>\n",
       "    <tr>\n",
       "      <th>1</th>\n",
       "      <td>13750</td>\n",
       "      <td>23</td>\n",
       "      <td>72937</td>\n",
       "      <td>Diesel</td>\n",
       "      <td>90</td>\n",
       "      <td>0</td>\n",
       "      <td>2000</td>\n",
       "      <td>3</td>\n",
       "      <td>4</td>\n",
       "      <td>5</td>\n",
       "      <td>1165</td>\n",
       "    </tr>\n",
       "    <tr>\n",
       "      <th>2</th>\n",
       "      <td>13950</td>\n",
       "      <td>24</td>\n",
       "      <td>41711</td>\n",
       "      <td>Diesel</td>\n",
       "      <td>90</td>\n",
       "      <td>0</td>\n",
       "      <td>2000</td>\n",
       "      <td>3</td>\n",
       "      <td>4</td>\n",
       "      <td>5</td>\n",
       "      <td>1165</td>\n",
       "    </tr>\n",
       "    <tr>\n",
       "      <th>3</th>\n",
       "      <td>14950</td>\n",
       "      <td>26</td>\n",
       "      <td>48000</td>\n",
       "      <td>Diesel</td>\n",
       "      <td>90</td>\n",
       "      <td>0</td>\n",
       "      <td>2000</td>\n",
       "      <td>3</td>\n",
       "      <td>4</td>\n",
       "      <td>5</td>\n",
       "      <td>1165</td>\n",
       "    </tr>\n",
       "    <tr>\n",
       "      <th>4</th>\n",
       "      <td>13750</td>\n",
       "      <td>30</td>\n",
       "      <td>38500</td>\n",
       "      <td>Diesel</td>\n",
       "      <td>90</td>\n",
       "      <td>0</td>\n",
       "      <td>2000</td>\n",
       "      <td>3</td>\n",
       "      <td>4</td>\n",
       "      <td>5</td>\n",
       "      <td>1170</td>\n",
       "    </tr>\n",
       "    <tr>\n",
       "      <th>...</th>\n",
       "      <td>...</td>\n",
       "      <td>...</td>\n",
       "      <td>...</td>\n",
       "      <td>...</td>\n",
       "      <td>...</td>\n",
       "      <td>...</td>\n",
       "      <td>...</td>\n",
       "      <td>...</td>\n",
       "      <td>...</td>\n",
       "      <td>...</td>\n",
       "      <td>...</td>\n",
       "    </tr>\n",
       "    <tr>\n",
       "      <th>1431</th>\n",
       "      <td>7500</td>\n",
       "      <td>69</td>\n",
       "      <td>20544</td>\n",
       "      <td>Petrol</td>\n",
       "      <td>86</td>\n",
       "      <td>0</td>\n",
       "      <td>1300</td>\n",
       "      <td>3</td>\n",
       "      <td>4</td>\n",
       "      <td>5</td>\n",
       "      <td>1025</td>\n",
       "    </tr>\n",
       "    <tr>\n",
       "      <th>1432</th>\n",
       "      <td>10845</td>\n",
       "      <td>72</td>\n",
       "      <td>19000</td>\n",
       "      <td>Petrol</td>\n",
       "      <td>86</td>\n",
       "      <td>0</td>\n",
       "      <td>1300</td>\n",
       "      <td>3</td>\n",
       "      <td>4</td>\n",
       "      <td>5</td>\n",
       "      <td>1015</td>\n",
       "    </tr>\n",
       "    <tr>\n",
       "      <th>1433</th>\n",
       "      <td>8500</td>\n",
       "      <td>71</td>\n",
       "      <td>17016</td>\n",
       "      <td>Petrol</td>\n",
       "      <td>86</td>\n",
       "      <td>0</td>\n",
       "      <td>1300</td>\n",
       "      <td>3</td>\n",
       "      <td>4</td>\n",
       "      <td>5</td>\n",
       "      <td>1015</td>\n",
       "    </tr>\n",
       "    <tr>\n",
       "      <th>1434</th>\n",
       "      <td>7250</td>\n",
       "      <td>70</td>\n",
       "      <td>16916</td>\n",
       "      <td>Petrol</td>\n",
       "      <td>86</td>\n",
       "      <td>0</td>\n",
       "      <td>1300</td>\n",
       "      <td>3</td>\n",
       "      <td>4</td>\n",
       "      <td>5</td>\n",
       "      <td>1015</td>\n",
       "    </tr>\n",
       "    <tr>\n",
       "      <th>1435</th>\n",
       "      <td>6950</td>\n",
       "      <td>76</td>\n",
       "      <td>1</td>\n",
       "      <td>Petrol</td>\n",
       "      <td>110</td>\n",
       "      <td>0</td>\n",
       "      <td>1600</td>\n",
       "      <td>5</td>\n",
       "      <td>4</td>\n",
       "      <td>5</td>\n",
       "      <td>1114</td>\n",
       "    </tr>\n",
       "  </tbody>\n",
       "</table>\n",
       "<p>1436 rows × 11 columns</p>\n",
       "</div>"
      ],
      "text/plain": [
       "      Price  Age_08_04     KM Fuel_Type   HP  Automatic    cc  Doors  \\\n",
       "0     13500         23  46986    Diesel   90          0  2000      3   \n",
       "1     13750         23  72937    Diesel   90          0  2000      3   \n",
       "2     13950         24  41711    Diesel   90          0  2000      3   \n",
       "3     14950         26  48000    Diesel   90          0  2000      3   \n",
       "4     13750         30  38500    Diesel   90          0  2000      3   \n",
       "...     ...        ...    ...       ...  ...        ...   ...    ...   \n",
       "1431   7500         69  20544    Petrol   86          0  1300      3   \n",
       "1432  10845         72  19000    Petrol   86          0  1300      3   \n",
       "1433   8500         71  17016    Petrol   86          0  1300      3   \n",
       "1434   7250         70  16916    Petrol   86          0  1300      3   \n",
       "1435   6950         76      1    Petrol  110          0  1600      5   \n",
       "\n",
       "      Cylinders  Gears  Weight  \n",
       "0             4      5    1165  \n",
       "1             4      5    1165  \n",
       "2             4      5    1165  \n",
       "3             4      5    1165  \n",
       "4             4      5    1170  \n",
       "...         ...    ...     ...  \n",
       "1431          4      5    1025  \n",
       "1432          4      5    1015  \n",
       "1433          4      5    1015  \n",
       "1434          4      5    1015  \n",
       "1435          4      5    1114  \n",
       "\n",
       "[1436 rows x 11 columns]"
      ]
     },
     "execution_count": 3,
     "metadata": {},
     "output_type": "execute_result"
    }
   ],
   "source": [
    "df"
   ]
  },
  {
   "cell_type": "code",
   "execution_count": 4,
   "id": "7eeba17e",
   "metadata": {},
   "outputs": [
    {
     "data": {
      "text/html": [
       "<div>\n",
       "<style scoped>\n",
       "    .dataframe tbody tr th:only-of-type {\n",
       "        vertical-align: middle;\n",
       "    }\n",
       "\n",
       "    .dataframe tbody tr th {\n",
       "        vertical-align: top;\n",
       "    }\n",
       "\n",
       "    .dataframe thead th {\n",
       "        text-align: right;\n",
       "    }\n",
       "</style>\n",
       "<table border=\"1\" class=\"dataframe\">\n",
       "  <thead>\n",
       "    <tr style=\"text-align: right;\">\n",
       "      <th></th>\n",
       "      <th>Price</th>\n",
       "      <th>Age_08_04</th>\n",
       "      <th>KM</th>\n",
       "      <th>Fuel_Type</th>\n",
       "      <th>HP</th>\n",
       "      <th>Automatic</th>\n",
       "      <th>cc</th>\n",
       "      <th>Doors</th>\n",
       "      <th>Cylinders</th>\n",
       "      <th>Gears</th>\n",
       "      <th>Weight</th>\n",
       "    </tr>\n",
       "  </thead>\n",
       "  <tbody>\n",
       "    <tr>\n",
       "      <th>0</th>\n",
       "      <td>13500</td>\n",
       "      <td>23</td>\n",
       "      <td>46986</td>\n",
       "      <td>Diesel</td>\n",
       "      <td>90</td>\n",
       "      <td>0</td>\n",
       "      <td>2000</td>\n",
       "      <td>3</td>\n",
       "      <td>4</td>\n",
       "      <td>5</td>\n",
       "      <td>1165</td>\n",
       "    </tr>\n",
       "    <tr>\n",
       "      <th>1</th>\n",
       "      <td>13750</td>\n",
       "      <td>23</td>\n",
       "      <td>72937</td>\n",
       "      <td>Diesel</td>\n",
       "      <td>90</td>\n",
       "      <td>0</td>\n",
       "      <td>2000</td>\n",
       "      <td>3</td>\n",
       "      <td>4</td>\n",
       "      <td>5</td>\n",
       "      <td>1165</td>\n",
       "    </tr>\n",
       "    <tr>\n",
       "      <th>2</th>\n",
       "      <td>13950</td>\n",
       "      <td>24</td>\n",
       "      <td>41711</td>\n",
       "      <td>Diesel</td>\n",
       "      <td>90</td>\n",
       "      <td>0</td>\n",
       "      <td>2000</td>\n",
       "      <td>3</td>\n",
       "      <td>4</td>\n",
       "      <td>5</td>\n",
       "      <td>1165</td>\n",
       "    </tr>\n",
       "    <tr>\n",
       "      <th>3</th>\n",
       "      <td>14950</td>\n",
       "      <td>26</td>\n",
       "      <td>48000</td>\n",
       "      <td>Diesel</td>\n",
       "      <td>90</td>\n",
       "      <td>0</td>\n",
       "      <td>2000</td>\n",
       "      <td>3</td>\n",
       "      <td>4</td>\n",
       "      <td>5</td>\n",
       "      <td>1165</td>\n",
       "    </tr>\n",
       "    <tr>\n",
       "      <th>4</th>\n",
       "      <td>13750</td>\n",
       "      <td>30</td>\n",
       "      <td>38500</td>\n",
       "      <td>Diesel</td>\n",
       "      <td>90</td>\n",
       "      <td>0</td>\n",
       "      <td>2000</td>\n",
       "      <td>3</td>\n",
       "      <td>4</td>\n",
       "      <td>5</td>\n",
       "      <td>1170</td>\n",
       "    </tr>\n",
       "  </tbody>\n",
       "</table>\n",
       "</div>"
      ],
      "text/plain": [
       "   Price  Age_08_04     KM Fuel_Type  HP  Automatic    cc  Doors  Cylinders  \\\n",
       "0  13500         23  46986    Diesel  90          0  2000      3          4   \n",
       "1  13750         23  72937    Diesel  90          0  2000      3          4   \n",
       "2  13950         24  41711    Diesel  90          0  2000      3          4   \n",
       "3  14950         26  48000    Diesel  90          0  2000      3          4   \n",
       "4  13750         30  38500    Diesel  90          0  2000      3          4   \n",
       "\n",
       "   Gears  Weight  \n",
       "0      5    1165  \n",
       "1      5    1165  \n",
       "2      5    1165  \n",
       "3      5    1165  \n",
       "4      5    1170  "
      ]
     },
     "execution_count": 4,
     "metadata": {},
     "output_type": "execute_result"
    }
   ],
   "source": [
    "df.head()"
   ]
  },
  {
   "cell_type": "markdown",
   "id": "84e08785",
   "metadata": {},
   "source": [
    "## 1. Perform exploratory data analysis (EDA) to gain insights into the dataset. Provide visualizations and summary statistics of the variables. Pre process the data to apply the MLR."
   ]
  },
  {
   "cell_type": "code",
   "execution_count": 5,
   "id": "f3ffa304",
   "metadata": {},
   "outputs": [
    {
     "data": {
      "text/plain": [
       "(1436, 11)"
      ]
     },
     "execution_count": 5,
     "metadata": {},
     "output_type": "execute_result"
    }
   ],
   "source": [
    "df.shape"
   ]
  },
  {
   "cell_type": "code",
   "execution_count": 6,
   "id": "22f46c20",
   "metadata": {},
   "outputs": [
    {
     "data": {
      "text/plain": [
       "Index(['Price', 'Age_08_04', 'KM', 'Fuel_Type', 'HP', 'Automatic', 'cc',\n",
       "       'Doors', 'Cylinders', 'Gears', 'Weight'],\n",
       "      dtype='object')"
      ]
     },
     "execution_count": 6,
     "metadata": {},
     "output_type": "execute_result"
    }
   ],
   "source": [
    "df.columns"
   ]
  },
  {
   "cell_type": "code",
   "execution_count": 7,
   "id": "3651dc43",
   "metadata": {},
   "outputs": [
    {
     "data": {
      "text/plain": [
       "Price        0\n",
       "Age_08_04    0\n",
       "KM           0\n",
       "Fuel_Type    0\n",
       "HP           0\n",
       "Automatic    0\n",
       "cc           0\n",
       "Doors        0\n",
       "Cylinders    0\n",
       "Gears        0\n",
       "Weight       0\n",
       "dtype: int64"
      ]
     },
     "execution_count": 7,
     "metadata": {},
     "output_type": "execute_result"
    }
   ],
   "source": [
    "df.isnull().sum()"
   ]
  },
  {
   "cell_type": "code",
   "execution_count": 8,
   "id": "a7b781ea",
   "metadata": {},
   "outputs": [
    {
     "data": {
      "text/plain": [
       "True"
      ]
     },
     "execution_count": 8,
     "metadata": {},
     "output_type": "execute_result"
    }
   ],
   "source": [
    "df.duplicated().any()"
   ]
  },
  {
   "cell_type": "code",
   "execution_count": 9,
   "id": "e32c6c18",
   "metadata": {},
   "outputs": [
    {
     "data": {
      "text/html": [
       "<div>\n",
       "<style scoped>\n",
       "    .dataframe tbody tr th:only-of-type {\n",
       "        vertical-align: middle;\n",
       "    }\n",
       "\n",
       "    .dataframe tbody tr th {\n",
       "        vertical-align: top;\n",
       "    }\n",
       "\n",
       "    .dataframe thead th {\n",
       "        text-align: right;\n",
       "    }\n",
       "</style>\n",
       "<table border=\"1\" class=\"dataframe\">\n",
       "  <thead>\n",
       "    <tr style=\"text-align: right;\">\n",
       "      <th></th>\n",
       "      <th>Price</th>\n",
       "      <th>Age_08_04</th>\n",
       "      <th>KM</th>\n",
       "      <th>Fuel_Type</th>\n",
       "      <th>HP</th>\n",
       "      <th>Automatic</th>\n",
       "      <th>cc</th>\n",
       "      <th>Doors</th>\n",
       "      <th>Cylinders</th>\n",
       "      <th>Gears</th>\n",
       "      <th>Weight</th>\n",
       "    </tr>\n",
       "  </thead>\n",
       "  <tbody>\n",
       "    <tr>\n",
       "      <th>113</th>\n",
       "      <td>24950</td>\n",
       "      <td>8</td>\n",
       "      <td>13253</td>\n",
       "      <td>Diesel</td>\n",
       "      <td>116</td>\n",
       "      <td>0</td>\n",
       "      <td>2000</td>\n",
       "      <td>5</td>\n",
       "      <td>4</td>\n",
       "      <td>5</td>\n",
       "      <td>1320</td>\n",
       "    </tr>\n",
       "  </tbody>\n",
       "</table>\n",
       "</div>"
      ],
      "text/plain": [
       "     Price  Age_08_04     KM Fuel_Type   HP  Automatic    cc  Doors  \\\n",
       "113  24950          8  13253    Diesel  116          0  2000      5   \n",
       "\n",
       "     Cylinders  Gears  Weight  \n",
       "113          4      5    1320  "
      ]
     },
     "execution_count": 9,
     "metadata": {},
     "output_type": "execute_result"
    }
   ],
   "source": [
    "df[df.duplicated()]"
   ]
  },
  {
   "cell_type": "code",
   "execution_count": 10,
   "id": "1d892d46",
   "metadata": {},
   "outputs": [],
   "source": [
    "df.drop_duplicates(inplace=True)"
   ]
  },
  {
   "cell_type": "code",
   "execution_count": 11,
   "id": "f85c3cfb",
   "metadata": {},
   "outputs": [
    {
     "data": {
      "text/plain": [
       "['Fuel_Type']"
      ]
     },
     "execution_count": 11,
     "metadata": {},
     "output_type": "execute_result"
    }
   ],
   "source": [
    "cat_col = [i for i in df.columns if df[i].dtype=='object']\n",
    "cat_col"
   ]
  },
  {
   "cell_type": "code",
   "execution_count": 12,
   "id": "93e10ba1",
   "metadata": {},
   "outputs": [
    {
     "data": {
      "text/plain": [
       "['Price',\n",
       " 'Age_08_04',\n",
       " 'KM',\n",
       " 'HP',\n",
       " 'Automatic',\n",
       " 'cc',\n",
       " 'Doors',\n",
       " 'Cylinders',\n",
       " 'Gears',\n",
       " 'Weight']"
      ]
     },
     "execution_count": 12,
     "metadata": {},
     "output_type": "execute_result"
    }
   ],
   "source": [
    "num_col = [i for i in df.columns if df[i].dtype!='object']\n",
    "num_col"
   ]
  },
  {
   "cell_type": "markdown",
   "id": "dde5812a",
   "metadata": {},
   "source": [
    "## outliers"
   ]
  },
  {
   "cell_type": "code",
   "execution_count": 13,
   "id": "f5c838d3",
   "metadata": {},
   "outputs": [
    {
     "data": {
      "image/png": "[encoded data removed]",
      "text/plain": [
       "<Figure size 576x720 with 1 Axes>"
      ]
     },
     "metadata": {
      "needs_background": "light"
     },
     "output_type": "display_data"
    },
    {
     "data": {
      "image/png": "[encoded data removed]",
      "text/plain": [
       "<Figure size 576x720 with 1 Axes>"
      ]
     },
     "metadata": {
      "needs_background": "light"
     },
     "output_type": "display_data"
    },
    {
     "data": {
      "image/png": "[encoded data removed]",
      "text/plain": [
       "<Figure size 576x720 with 1 Axes>"
      ]
     },
     "metadata": {
      "needs_background": "light"
     },
     "output_type": "display_data"
    },
    {
     "data": {
      "image/png": "[encoded data removed]",
      "text/plain": [
       "<Figure size 576x720 with 1 Axes>"
      ]
     },
     "metadata": {
      "needs_background": "light"
     },
     "output_type": "display_data"
    },
    {
     "data": {
      "image/png": "[encoded data removed]",
      "text/plain": [
       "<Figure size 576x720 with 1 Axes>"
      ]
     },
     "metadata": {
      "needs_background": "light"
     },
     "output_type": "display_data"
    },
    {
     "data": {
      "image/png": "[encoded data removed]",
      "text/plain": [
       "<Figure size 576x720 with 1 Axes>"
      ]
     },
     "metadata": {
      "needs_background": "light"
     },
     "output_type": "display_data"
    },
    {
     "data": {
      "image/png": "[encoded data removed]",
      "text/plain": [
       "<Figure size 576x720 with 1 Axes>"
      ]
     },
     "metadata": {
      "needs_background": "light"
     },
     "output_type": "display_data"
    },
    {
     "data": {
      "image/png": "[encoded data removed]",
      "text/plain": [
       "<Figure size 576x720 with 1 Axes>"
      ]
     },
     "metadata": {
      "needs_background": "light"
     },
     "output_type": "display_data"
    },
    {
     "data": {
      "image/png": "[encoded data removed]",
      "text/plain": [
       "<Figure size 576x720 with 1 Axes>"
      ]
     },
     "metadata": {
      "needs_background": "light"
     },
     "output_type": "display_data"
    },
    {
     "data": {
      "image/png": "[encoded data removed]",
      "text/plain": [
       "<Figure size 576x720 with 1 Axes>"
      ]
     },
     "metadata": {
      "needs_background": "light"
     },
     "output_type": "display_data"
    }
   ],
   "source": [
    "for columns in num_col:\n",
    "    plt.figure(figsize=(8,10))\n",
    "    sns.boxplot(data=df , x=columns)\n",
    "    plt.xlabel(columns , color='red'  , fontsize=14)\n",
    "    plt.ylabel('target',color='green' , fontsize=14)\n",
    "    plt.title(f'Boxplot of {columns}', color='brown' , fontsize=16)\n",
    "    plt.show()"
   ]
  },
  {
   "cell_type": "code",
   "execution_count": 14,
   "id": "30791a73",
   "metadata": {},
   "outputs": [],
   "source": [
    "## since there r some outliers so we'll remove this"
   ]
  },
  {
   "cell_type": "code",
   "execution_count": 15,
   "id": "04884c71",
   "metadata": {},
   "outputs": [],
   "source": [
    "q1 = df[num_col].quantile(0.25)\n",
    "q3 = df[num_col].quantile(0.75)\n",
    "iqr = q3-q1\n",
    "lower_extreme = q1-1.5*iqr\n",
    "upper_extreme = q3+1.5*iqr"
   ]
  },
  {
   "cell_type": "code",
   "execution_count": 16,
   "id": "01fa16c3",
   "metadata": {},
   "outputs": [
    {
     "name": "stdout",
     "output_type": "stream",
     "text": [
      "Price         8450.0\n",
      "Age_08_04       44.0\n",
      "KM           43000.0\n",
      "HP              90.0\n",
      "Automatic        0.0\n",
      "cc            1400.0\n",
      "Doors            3.0\n",
      "Cylinders        4.0\n",
      "Gears            5.0\n",
      "Weight        1040.0\n",
      "Name: 0.25, dtype: float64\n"
     ]
    }
   ],
   "source": [
    "print (q1)"
   ]
  },
  {
   "cell_type": "code",
   "execution_count": 17,
   "id": "012b5f2a",
   "metadata": {},
   "outputs": [
    {
     "name": "stdout",
     "output_type": "stream",
     "text": [
      "Price        11950.0\n",
      "Age_08_04       70.0\n",
      "KM           87041.5\n",
      "HP             110.0\n",
      "Automatic        0.0\n",
      "cc            1600.0\n",
      "Doors            5.0\n",
      "Cylinders        4.0\n",
      "Gears            5.0\n",
      "Weight        1085.0\n",
      "Name: 0.75, dtype: float64\n"
     ]
    }
   ],
   "source": [
    "print (q3)"
   ]
  },
  {
   "cell_type": "code",
   "execution_count": 18,
   "id": "1d8bc443",
   "metadata": {},
   "outputs": [
    {
     "name": "stdout",
     "output_type": "stream",
     "text": [
      "Price         3500.0\n",
      "Age_08_04       26.0\n",
      "KM           44041.5\n",
      "HP              20.0\n",
      "Automatic        0.0\n",
      "cc             200.0\n",
      "Doors            2.0\n",
      "Cylinders        0.0\n",
      "Gears            0.0\n",
      "Weight          45.0\n",
      "dtype: float64\n",
      "Price         3200.00\n",
      "Age_08_04        5.00\n",
      "KM          -23062.25\n",
      "HP              60.00\n",
      "Automatic        0.00\n",
      "cc            1100.00\n",
      "Doors            0.00\n",
      "Cylinders        4.00\n",
      "Gears            5.00\n",
      "Weight         972.50\n",
      "dtype: float64\n",
      "Price         17200.00\n",
      "Age_08_04       109.00\n",
      "KM           153103.75\n",
      "HP              140.00\n",
      "Automatic         0.00\n",
      "cc             1900.00\n",
      "Doors             8.00\n",
      "Cylinders         4.00\n",
      "Gears             5.00\n",
      "Weight         1152.50\n",
      "dtype: float64\n"
     ]
    }
   ],
   "source": [
    "print (iqr)\n",
    "print (lower_extreme)\n",
    "print (upper_extreme)"
   ]
  },
  {
   "cell_type": "code",
   "execution_count": 19,
   "id": "b820356d",
   "metadata": {},
   "outputs": [],
   "source": [
    "## check outliers"
   ]
  },
  {
   "cell_type": "code",
   "execution_count": 20,
   "id": "d1a3ac2e",
   "metadata": {},
   "outputs": [
    {
     "name": "stdout",
     "output_type": "stream",
     "text": [
      "      Price  Age_08_04     KM   HP  Automatic    cc  Doors  Cylinders  Gears  \\\n",
      "0     13500         23  46986   90          0  2000      3          4      5   \n",
      "1     13750         23  72937   90          0  2000      3          4      5   \n",
      "2     13950         24  41711   90          0  2000      3          4      5   \n",
      "3     14950         26  48000   90          0  2000      3          4      5   \n",
      "4     13750         30  38500   90          0  2000      3          4      5   \n",
      "...     ...        ...    ...  ...        ...   ...    ...        ...    ...   \n",
      "1421   8500         78  36000   86          1  1300      3          4      5   \n",
      "1423   7950         80  35821   86          1  1300      3          4      5   \n",
      "1426   9950         78  30964  110          1  1600      3          4      4   \n",
      "1427   8950         71  29000   86          1  1300      3          4      5   \n",
      "1429   8950         78  24000   86          1  1300      5          4      5   \n",
      "\n",
      "      Weight  \n",
      "0       1165  \n",
      "1       1165  \n",
      "2       1165  \n",
      "3       1165  \n",
      "4       1170  \n",
      "...      ...  \n",
      "1421    1045  \n",
      "1423    1015  \n",
      "1426    1080  \n",
      "1427    1045  \n",
      "1429    1065  \n",
      "\n",
      "[337 rows x 10 columns]\n"
     ]
    }
   ],
   "source": [
    "detect_outliers = ((df[num_col] < lower_extreme.loc[num_col]) | (df[num_col] > upper_extreme.loc[num_col]))\n",
    "df_outliers = df[detect_outliers.any(axis=1)][num_col]\n",
    "print(df_outliers)"
   ]
  },
  {
   "cell_type": "code",
   "execution_count": 21,
   "id": "8d876ce5",
   "metadata": {},
   "outputs": [
    {
     "data": {
      "text/html": [
       "<div>\n",
       "<style scoped>\n",
       "    .dataframe tbody tr th:only-of-type {\n",
       "        vertical-align: middle;\n",
       "    }\n",
       "\n",
       "    .dataframe tbody tr th {\n",
       "        vertical-align: top;\n",
       "    }\n",
       "\n",
       "    .dataframe thead th {\n",
       "        text-align: right;\n",
       "    }\n",
       "</style>\n",
       "<table border=\"1\" class=\"dataframe\">\n",
       "  <thead>\n",
       "    <tr style=\"text-align: right;\">\n",
       "      <th></th>\n",
       "      <th>Price</th>\n",
       "      <th>Age_08_04</th>\n",
       "      <th>KM</th>\n",
       "      <th>HP</th>\n",
       "      <th>Automatic</th>\n",
       "      <th>cc</th>\n",
       "      <th>Doors</th>\n",
       "      <th>Cylinders</th>\n",
       "      <th>Gears</th>\n",
       "      <th>Weight</th>\n",
       "    </tr>\n",
       "  </thead>\n",
       "  <tbody>\n",
       "    <tr>\n",
       "      <th>0</th>\n",
       "      <td>13500</td>\n",
       "      <td>23</td>\n",
       "      <td>46986</td>\n",
       "      <td>90</td>\n",
       "      <td>0</td>\n",
       "      <td>2000</td>\n",
       "      <td>3</td>\n",
       "      <td>4</td>\n",
       "      <td>5</td>\n",
       "      <td>1165</td>\n",
       "    </tr>\n",
       "    <tr>\n",
       "      <th>1</th>\n",
       "      <td>13750</td>\n",
       "      <td>23</td>\n",
       "      <td>72937</td>\n",
       "      <td>90</td>\n",
       "      <td>0</td>\n",
       "      <td>2000</td>\n",
       "      <td>3</td>\n",
       "      <td>4</td>\n",
       "      <td>5</td>\n",
       "      <td>1165</td>\n",
       "    </tr>\n",
       "    <tr>\n",
       "      <th>2</th>\n",
       "      <td>13950</td>\n",
       "      <td>24</td>\n",
       "      <td>41711</td>\n",
       "      <td>90</td>\n",
       "      <td>0</td>\n",
       "      <td>2000</td>\n",
       "      <td>3</td>\n",
       "      <td>4</td>\n",
       "      <td>5</td>\n",
       "      <td>1165</td>\n",
       "    </tr>\n",
       "    <tr>\n",
       "      <th>3</th>\n",
       "      <td>14950</td>\n",
       "      <td>26</td>\n",
       "      <td>48000</td>\n",
       "      <td>90</td>\n",
       "      <td>0</td>\n",
       "      <td>2000</td>\n",
       "      <td>3</td>\n",
       "      <td>4</td>\n",
       "      <td>5</td>\n",
       "      <td>1165</td>\n",
       "    </tr>\n",
       "    <tr>\n",
       "      <th>4</th>\n",
       "      <td>13750</td>\n",
       "      <td>30</td>\n",
       "      <td>38500</td>\n",
       "      <td>90</td>\n",
       "      <td>0</td>\n",
       "      <td>2000</td>\n",
       "      <td>3</td>\n",
       "      <td>4</td>\n",
       "      <td>5</td>\n",
       "      <td>1170</td>\n",
       "    </tr>\n",
       "    <tr>\n",
       "      <th>...</th>\n",
       "      <td>...</td>\n",
       "      <td>...</td>\n",
       "      <td>...</td>\n",
       "      <td>...</td>\n",
       "      <td>...</td>\n",
       "      <td>...</td>\n",
       "      <td>...</td>\n",
       "      <td>...</td>\n",
       "      <td>...</td>\n",
       "      <td>...</td>\n",
       "    </tr>\n",
       "    <tr>\n",
       "      <th>1421</th>\n",
       "      <td>8500</td>\n",
       "      <td>78</td>\n",
       "      <td>36000</td>\n",
       "      <td>86</td>\n",
       "      <td>1</td>\n",
       "      <td>1300</td>\n",
       "      <td>3</td>\n",
       "      <td>4</td>\n",
       "      <td>5</td>\n",
       "      <td>1045</td>\n",
       "    </tr>\n",
       "    <tr>\n",
       "      <th>1423</th>\n",
       "      <td>7950</td>\n",
       "      <td>80</td>\n",
       "      <td>35821</td>\n",
       "      <td>86</td>\n",
       "      <td>1</td>\n",
       "      <td>1300</td>\n",
       "      <td>3</td>\n",
       "      <td>4</td>\n",
       "      <td>5</td>\n",
       "      <td>1015</td>\n",
       "    </tr>\n",
       "    <tr>\n",
       "      <th>1426</th>\n",
       "      <td>9950</td>\n",
       "      <td>78</td>\n",
       "      <td>30964</td>\n",
       "      <td>110</td>\n",
       "      <td>1</td>\n",
       "      <td>1600</td>\n",
       "      <td>3</td>\n",
       "      <td>4</td>\n",
       "      <td>4</td>\n",
       "      <td>1080</td>\n",
       "    </tr>\n",
       "    <tr>\n",
       "      <th>1427</th>\n",
       "      <td>8950</td>\n",
       "      <td>71</td>\n",
       "      <td>29000</td>\n",
       "      <td>86</td>\n",
       "      <td>1</td>\n",
       "      <td>1300</td>\n",
       "      <td>3</td>\n",
       "      <td>4</td>\n",
       "      <td>5</td>\n",
       "      <td>1045</td>\n",
       "    </tr>\n",
       "    <tr>\n",
       "      <th>1429</th>\n",
       "      <td>8950</td>\n",
       "      <td>78</td>\n",
       "      <td>24000</td>\n",
       "      <td>86</td>\n",
       "      <td>1</td>\n",
       "      <td>1300</td>\n",
       "      <td>5</td>\n",
       "      <td>4</td>\n",
       "      <td>5</td>\n",
       "      <td>1065</td>\n",
       "    </tr>\n",
       "  </tbody>\n",
       "</table>\n",
       "<p>337 rows × 10 columns</p>\n",
       "</div>"
      ],
      "text/plain": [
       "      Price  Age_08_04     KM   HP  Automatic    cc  Doors  Cylinders  Gears  \\\n",
       "0     13500         23  46986   90          0  2000      3          4      5   \n",
       "1     13750         23  72937   90          0  2000      3          4      5   \n",
       "2     13950         24  41711   90          0  2000      3          4      5   \n",
       "3     14950         26  48000   90          0  2000      3          4      5   \n",
       "4     13750         30  38500   90          0  2000      3          4      5   \n",
       "...     ...        ...    ...  ...        ...   ...    ...        ...    ...   \n",
       "1421   8500         78  36000   86          1  1300      3          4      5   \n",
       "1423   7950         80  35821   86          1  1300      3          4      5   \n",
       "1426   9950         78  30964  110          1  1600      3          4      4   \n",
       "1427   8950         71  29000   86          1  1300      3          4      5   \n",
       "1429   8950         78  24000   86          1  1300      5          4      5   \n",
       "\n",
       "      Weight  \n",
       "0       1165  \n",
       "1       1165  \n",
       "2       1165  \n",
       "3       1165  \n",
       "4       1170  \n",
       "...      ...  \n",
       "1421    1045  \n",
       "1423    1015  \n",
       "1426    1080  \n",
       "1427    1045  \n",
       "1429    1065  \n",
       "\n",
       "[337 rows x 10 columns]"
      ]
     },
     "execution_count": 21,
     "metadata": {},
     "output_type": "execute_result"
    }
   ],
   "source": [
    "pd.DataFrame(df_outliers)"
   ]
  },
  {
   "cell_type": "code",
   "execution_count": 22,
   "id": "17fede65",
   "metadata": {},
   "outputs": [],
   "source": [
    "## remove"
   ]
  },
  {
   "cell_type": "code",
   "execution_count": 23,
   "id": "0c75fa5a",
   "metadata": {},
   "outputs": [
    {
     "name": "stdout",
     "output_type": "stream",
     "text": [
      "      Price  Age_08_04     KM   HP  Automatic    cc  Doors  Cylinders  Gears  \\\n",
      "9     12950         23  71138   69          0  1900      3          4      5   \n",
      "18    16750         24  25563  110          0  1600      3          4      5   \n",
      "19    16950         30  64359  110          0  1600      3          4      5   \n",
      "20    15950         30  67660  110          0  1600      3          4      5   \n",
      "22    15950         28  56349  110          0  1600      3          4      5   \n",
      "...     ...        ...    ...  ...        ...   ...    ...        ...    ...   \n",
      "1431   7500         69  20544   86          0  1300      3          4      5   \n",
      "1432  10845         72  19000   86          0  1300      3          4      5   \n",
      "1433   8500         71  17016   86          0  1300      3          4      5   \n",
      "1434   7250         70  16916   86          0  1300      3          4      5   \n",
      "1435   6950         76      1  110          0  1600      5          4      5   \n",
      "\n",
      "      Weight  \n",
      "9       1105  \n",
      "18      1065  \n",
      "19      1105  \n",
      "20      1105  \n",
      "22      1120  \n",
      "...      ...  \n",
      "1431    1025  \n",
      "1432    1015  \n",
      "1433    1015  \n",
      "1434    1015  \n",
      "1435    1114  \n",
      "\n",
      "[1098 rows x 10 columns]\n"
     ]
    }
   ],
   "source": [
    "# Detect non-outliers (values within the lower and upper bounds)\n",
    "detect_non_outliers = (df[num_col] >= lower_extreme.loc[num_col]) & (df[num_col] <= upper_extreme.loc[num_col])\n",
    "\n",
    "# Keep only rows where all columns have non-outlier values\n",
    "df_non_outliers = df[detect_non_outliers.all(axis=1)][num_col]\n",
    "\n",
    "print(df_non_outliers)"
   ]
  },
  {
   "cell_type": "code",
   "execution_count": 24,
   "id": "2200c4fc",
   "metadata": {},
   "outputs": [],
   "source": [
    "df_new=df_non_outliers"
   ]
  },
  {
   "cell_type": "code",
   "execution_count": 25,
   "id": "e3e90b74",
   "metadata": {},
   "outputs": [
    {
     "data": {
      "text/html": [
       "<div>\n",
       "<style scoped>\n",
       "    .dataframe tbody tr th:only-of-type {\n",
       "        vertical-align: middle;\n",
       "    }\n",
       "\n",
       "    .dataframe tbody tr th {\n",
       "        vertical-align: top;\n",
       "    }\n",
       "\n",
       "    .dataframe thead th {\n",
       "        text-align: right;\n",
       "    }\n",
       "</style>\n",
       "<table border=\"1\" class=\"dataframe\">\n",
       "  <thead>\n",
       "    <tr style=\"text-align: right;\">\n",
       "      <th></th>\n",
       "      <th>Price</th>\n",
       "      <th>Age_08_04</th>\n",
       "      <th>KM</th>\n",
       "      <th>HP</th>\n",
       "      <th>Automatic</th>\n",
       "      <th>cc</th>\n",
       "      <th>Doors</th>\n",
       "      <th>Cylinders</th>\n",
       "      <th>Gears</th>\n",
       "      <th>Weight</th>\n",
       "    </tr>\n",
       "  </thead>\n",
       "  <tbody>\n",
       "    <tr>\n",
       "      <th>9</th>\n",
       "      <td>12950</td>\n",
       "      <td>23</td>\n",
       "      <td>71138</td>\n",
       "      <td>69</td>\n",
       "      <td>0</td>\n",
       "      <td>1900</td>\n",
       "      <td>3</td>\n",
       "      <td>4</td>\n",
       "      <td>5</td>\n",
       "      <td>1105</td>\n",
       "    </tr>\n",
       "    <tr>\n",
       "      <th>18</th>\n",
       "      <td>16750</td>\n",
       "      <td>24</td>\n",
       "      <td>25563</td>\n",
       "      <td>110</td>\n",
       "      <td>0</td>\n",
       "      <td>1600</td>\n",
       "      <td>3</td>\n",
       "      <td>4</td>\n",
       "      <td>5</td>\n",
       "      <td>1065</td>\n",
       "    </tr>\n",
       "    <tr>\n",
       "      <th>19</th>\n",
       "      <td>16950</td>\n",
       "      <td>30</td>\n",
       "      <td>64359</td>\n",
       "      <td>110</td>\n",
       "      <td>0</td>\n",
       "      <td>1600</td>\n",
       "      <td>3</td>\n",
       "      <td>4</td>\n",
       "      <td>5</td>\n",
       "      <td>1105</td>\n",
       "    </tr>\n",
       "    <tr>\n",
       "      <th>20</th>\n",
       "      <td>15950</td>\n",
       "      <td>30</td>\n",
       "      <td>67660</td>\n",
       "      <td>110</td>\n",
       "      <td>0</td>\n",
       "      <td>1600</td>\n",
       "      <td>3</td>\n",
       "      <td>4</td>\n",
       "      <td>5</td>\n",
       "      <td>1105</td>\n",
       "    </tr>\n",
       "    <tr>\n",
       "      <th>22</th>\n",
       "      <td>15950</td>\n",
       "      <td>28</td>\n",
       "      <td>56349</td>\n",
       "      <td>110</td>\n",
       "      <td>0</td>\n",
       "      <td>1600</td>\n",
       "      <td>3</td>\n",
       "      <td>4</td>\n",
       "      <td>5</td>\n",
       "      <td>1120</td>\n",
       "    </tr>\n",
       "    <tr>\n",
       "      <th>...</th>\n",
       "      <td>...</td>\n",
       "      <td>...</td>\n",
       "      <td>...</td>\n",
       "      <td>...</td>\n",
       "      <td>...</td>\n",
       "      <td>...</td>\n",
       "      <td>...</td>\n",
       "      <td>...</td>\n",
       "      <td>...</td>\n",
       "      <td>...</td>\n",
       "    </tr>\n",
       "    <tr>\n",
       "      <th>1431</th>\n",
       "      <td>7500</td>\n",
       "      <td>69</td>\n",
       "      <td>20544</td>\n",
       "      <td>86</td>\n",
       "      <td>0</td>\n",
       "      <td>1300</td>\n",
       "      <td>3</td>\n",
       "      <td>4</td>\n",
       "      <td>5</td>\n",
       "      <td>1025</td>\n",
       "    </tr>\n",
       "    <tr>\n",
       "      <th>1432</th>\n",
       "      <td>10845</td>\n",
       "      <td>72</td>\n",
       "      <td>19000</td>\n",
       "      <td>86</td>\n",
       "      <td>0</td>\n",
       "      <td>1300</td>\n",
       "      <td>3</td>\n",
       "      <td>4</td>\n",
       "      <td>5</td>\n",
       "      <td>1015</td>\n",
       "    </tr>\n",
       "    <tr>\n",
       "      <th>1433</th>\n",
       "      <td>8500</td>\n",
       "      <td>71</td>\n",
       "      <td>17016</td>\n",
       "      <td>86</td>\n",
       "      <td>0</td>\n",
       "      <td>1300</td>\n",
       "      <td>3</td>\n",
       "      <td>4</td>\n",
       "      <td>5</td>\n",
       "      <td>1015</td>\n",
       "    </tr>\n",
       "    <tr>\n",
       "      <th>1434</th>\n",
       "      <td>7250</td>\n",
       "      <td>70</td>\n",
       "      <td>16916</td>\n",
       "      <td>86</td>\n",
       "      <td>0</td>\n",
       "      <td>1300</td>\n",
       "      <td>3</td>\n",
       "      <td>4</td>\n",
       "      <td>5</td>\n",
       "      <td>1015</td>\n",
       "    </tr>\n",
       "    <tr>\n",
       "      <th>1435</th>\n",
       "      <td>6950</td>\n",
       "      <td>76</td>\n",
       "      <td>1</td>\n",
       "      <td>110</td>\n",
       "      <td>0</td>\n",
       "      <td>1600</td>\n",
       "      <td>5</td>\n",
       "      <td>4</td>\n",
       "      <td>5</td>\n",
       "      <td>1114</td>\n",
       "    </tr>\n",
       "  </tbody>\n",
       "</table>\n",
       "<p>1098 rows × 10 columns</p>\n",
       "</div>"
      ],
      "text/plain": [
       "      Price  Age_08_04     KM   HP  Automatic    cc  Doors  Cylinders  Gears  \\\n",
       "9     12950         23  71138   69          0  1900      3          4      5   \n",
       "18    16750         24  25563  110          0  1600      3          4      5   \n",
       "19    16950         30  64359  110          0  1600      3          4      5   \n",
       "20    15950         30  67660  110          0  1600      3          4      5   \n",
       "22    15950         28  56349  110          0  1600      3          4      5   \n",
       "...     ...        ...    ...  ...        ...   ...    ...        ...    ...   \n",
       "1431   7500         69  20544   86          0  1300      3          4      5   \n",
       "1432  10845         72  19000   86          0  1300      3          4      5   \n",
       "1433   8500         71  17016   86          0  1300      3          4      5   \n",
       "1434   7250         70  16916   86          0  1300      3          4      5   \n",
       "1435   6950         76      1  110          0  1600      5          4      5   \n",
       "\n",
       "      Weight  \n",
       "9       1105  \n",
       "18      1065  \n",
       "19      1105  \n",
       "20      1105  \n",
       "22      1120  \n",
       "...      ...  \n",
       "1431    1025  \n",
       "1432    1015  \n",
       "1433    1015  \n",
       "1434    1015  \n",
       "1435    1114  \n",
       "\n",
       "[1098 rows x 10 columns]"
      ]
     },
     "execution_count": 25,
     "metadata": {},
     "output_type": "execute_result"
    }
   ],
   "source": [
    "df_new"
   ]
  },
  {
   "cell_type": "code",
   "execution_count": 26,
   "id": "ae2a3e6d",
   "metadata": {},
   "outputs": [
    {
     "data": {
      "text/html": [
       "<div>\n",
       "<style scoped>\n",
       "    .dataframe tbody tr th:only-of-type {\n",
       "        vertical-align: middle;\n",
       "    }\n",
       "\n",
       "    .dataframe tbody tr th {\n",
       "        vertical-align: top;\n",
       "    }\n",
       "\n",
       "    .dataframe thead th {\n",
       "        text-align: right;\n",
       "    }\n",
       "</style>\n",
       "<table border=\"1\" class=\"dataframe\">\n",
       "  <thead>\n",
       "    <tr style=\"text-align: right;\">\n",
       "      <th></th>\n",
       "      <th>Price</th>\n",
       "      <th>Age_08_04</th>\n",
       "      <th>KM</th>\n",
       "      <th>HP</th>\n",
       "      <th>Automatic</th>\n",
       "      <th>cc</th>\n",
       "      <th>Doors</th>\n",
       "      <th>Cylinders</th>\n",
       "      <th>Gears</th>\n",
       "      <th>Weight</th>\n",
       "    </tr>\n",
       "  </thead>\n",
       "  <tbody>\n",
       "    <tr>\n",
       "      <th>Price</th>\n",
       "      <td>1.000000</td>\n",
       "      <td>-0.867168</td>\n",
       "      <td>-0.531257</td>\n",
       "      <td>0.111864</td>\n",
       "      <td>NaN</td>\n",
       "      <td>0.109523</td>\n",
       "      <td>0.178103</td>\n",
       "      <td>NaN</td>\n",
       "      <td>NaN</td>\n",
       "      <td>0.472660</td>\n",
       "    </tr>\n",
       "    <tr>\n",
       "      <th>Age_08_04</th>\n",
       "      <td>-0.867168</td>\n",
       "      <td>1.000000</td>\n",
       "      <td>0.468104</td>\n",
       "      <td>0.011544</td>\n",
       "      <td>NaN</td>\n",
       "      <td>-0.066002</td>\n",
       "      <td>-0.102536</td>\n",
       "      <td>NaN</td>\n",
       "      <td>NaN</td>\n",
       "      <td>-0.388867</td>\n",
       "    </tr>\n",
       "    <tr>\n",
       "      <th>KM</th>\n",
       "      <td>-0.531257</td>\n",
       "      <td>0.468104</td>\n",
       "      <td>1.000000</td>\n",
       "      <td>-0.046861</td>\n",
       "      <td>NaN</td>\n",
       "      <td>0.142423</td>\n",
       "      <td>0.010608</td>\n",
       "      <td>NaN</td>\n",
       "      <td>NaN</td>\n",
       "      <td>-0.030156</td>\n",
       "    </tr>\n",
       "    <tr>\n",
       "      <th>HP</th>\n",
       "      <td>0.111864</td>\n",
       "      <td>0.011544</td>\n",
       "      <td>-0.046861</td>\n",
       "      <td>1.000000</td>\n",
       "      <td>NaN</td>\n",
       "      <td>0.592455</td>\n",
       "      <td>0.170784</td>\n",
       "      <td>NaN</td>\n",
       "      <td>NaN</td>\n",
       "      <td>0.308100</td>\n",
       "    </tr>\n",
       "    <tr>\n",
       "      <th>Automatic</th>\n",
       "      <td>NaN</td>\n",
       "      <td>NaN</td>\n",
       "      <td>NaN</td>\n",
       "      <td>NaN</td>\n",
       "      <td>NaN</td>\n",
       "      <td>NaN</td>\n",
       "      <td>NaN</td>\n",
       "      <td>NaN</td>\n",
       "      <td>NaN</td>\n",
       "      <td>NaN</td>\n",
       "    </tr>\n",
       "    <tr>\n",
       "      <th>cc</th>\n",
       "      <td>0.109523</td>\n",
       "      <td>-0.066002</td>\n",
       "      <td>0.142423</td>\n",
       "      <td>0.592455</td>\n",
       "      <td>NaN</td>\n",
       "      <td>1.000000</td>\n",
       "      <td>0.218468</td>\n",
       "      <td>NaN</td>\n",
       "      <td>NaN</td>\n",
       "      <td>0.617273</td>\n",
       "    </tr>\n",
       "    <tr>\n",
       "      <th>Doors</th>\n",
       "      <td>0.178103</td>\n",
       "      <td>-0.102536</td>\n",
       "      <td>0.010608</td>\n",
       "      <td>0.170784</td>\n",
       "      <td>NaN</td>\n",
       "      <td>0.218468</td>\n",
       "      <td>1.000000</td>\n",
       "      <td>NaN</td>\n",
       "      <td>NaN</td>\n",
       "      <td>0.535303</td>\n",
       "    </tr>\n",
       "    <tr>\n",
       "      <th>Cylinders</th>\n",
       "      <td>NaN</td>\n",
       "      <td>NaN</td>\n",
       "      <td>NaN</td>\n",
       "      <td>NaN</td>\n",
       "      <td>NaN</td>\n",
       "      <td>NaN</td>\n",
       "      <td>NaN</td>\n",
       "      <td>NaN</td>\n",
       "      <td>NaN</td>\n",
       "      <td>NaN</td>\n",
       "    </tr>\n",
       "    <tr>\n",
       "      <th>Gears</th>\n",
       "      <td>NaN</td>\n",
       "      <td>NaN</td>\n",
       "      <td>NaN</td>\n",
       "      <td>NaN</td>\n",
       "      <td>NaN</td>\n",
       "      <td>NaN</td>\n",
       "      <td>NaN</td>\n",
       "      <td>NaN</td>\n",
       "      <td>NaN</td>\n",
       "      <td>NaN</td>\n",
       "    </tr>\n",
       "    <tr>\n",
       "      <th>Weight</th>\n",
       "      <td>0.472660</td>\n",
       "      <td>-0.388867</td>\n",
       "      <td>-0.030156</td>\n",
       "      <td>0.308100</td>\n",
       "      <td>NaN</td>\n",
       "      <td>0.617273</td>\n",
       "      <td>0.535303</td>\n",
       "      <td>NaN</td>\n",
       "      <td>NaN</td>\n",
       "      <td>1.000000</td>\n",
       "    </tr>\n",
       "  </tbody>\n",
       "</table>\n",
       "</div>"
      ],
      "text/plain": [
       "              Price  Age_08_04        KM        HP  Automatic        cc  \\\n",
       "Price      1.000000  -0.867168 -0.531257  0.111864        NaN  0.109523   \n",
       "Age_08_04 -0.867168   1.000000  0.468104  0.011544        NaN -0.066002   \n",
       "KM        -0.531257   0.468104  1.000000 -0.046861        NaN  0.142423   \n",
       "HP         0.111864   0.011544 -0.046861  1.000000        NaN  0.592455   \n",
       "Automatic       NaN        NaN       NaN       NaN        NaN       NaN   \n",
       "cc         0.109523  -0.066002  0.142423  0.592455        NaN  1.000000   \n",
       "Doors      0.178103  -0.102536  0.010608  0.170784        NaN  0.218468   \n",
       "Cylinders       NaN        NaN       NaN       NaN        NaN       NaN   \n",
       "Gears           NaN        NaN       NaN       NaN        NaN       NaN   \n",
       "Weight     0.472660  -0.388867 -0.030156  0.308100        NaN  0.617273   \n",
       "\n",
       "              Doors  Cylinders  Gears    Weight  \n",
       "Price      0.178103        NaN    NaN  0.472660  \n",
       "Age_08_04 -0.102536        NaN    NaN -0.388867  \n",
       "KM         0.010608        NaN    NaN -0.030156  \n",
       "HP         0.170784        NaN    NaN  0.308100  \n",
       "Automatic       NaN        NaN    NaN       NaN  \n",
       "cc         0.218468        NaN    NaN  0.617273  \n",
       "Doors      1.000000        NaN    NaN  0.535303  \n",
       "Cylinders       NaN        NaN    NaN       NaN  \n",
       "Gears           NaN        NaN    NaN       NaN  \n",
       "Weight     0.535303        NaN    NaN  1.000000  "
      ]
     },
     "execution_count": 26,
     "metadata": {},
     "output_type": "execute_result"
    }
   ],
   "source": [
    "df_new.corr()"
   ]
  },
  {
   "cell_type": "code",
   "execution_count": 27,
   "id": "77244476",
   "metadata": {},
   "outputs": [
    {
     "data": {
      "text/plain": [
       "<AxesSubplot:>"
      ]
     },
     "execution_count": 27,
     "metadata": {},
     "output_type": "execute_result"
    },
    {
     "data": {
      "image/png": "[encoded data removed]",
      "text/plain": [
       "<Figure size 432x288 with 2 Axes>"
      ]
     },
     "metadata": {
      "needs_background": "light"
     },
     "output_type": "display_data"
    }
   ],
   "source": [
    "sns.heatmap(df_new.corr(),annot=True,cmap= plt.cm.coolwarm)"
   ]
  },
  {
   "cell_type": "code",
   "execution_count": 28,
   "id": "6eb64fb5",
   "metadata": {},
   "outputs": [
    {
     "data": {
      "text/html": [
       "<div>\n",
       "<style scoped>\n",
       "    .dataframe tbody tr th:only-of-type {\n",
       "        vertical-align: middle;\n",
       "    }\n",
       "\n",
       "    .dataframe tbody tr th {\n",
       "        vertical-align: top;\n",
       "    }\n",
       "\n",
       "    .dataframe thead th {\n",
       "        text-align: right;\n",
       "    }\n",
       "</style>\n",
       "<table border=\"1\" class=\"dataframe\">\n",
       "  <thead>\n",
       "    <tr style=\"text-align: right;\">\n",
       "      <th></th>\n",
       "      <th>index</th>\n",
       "      <th>Price</th>\n",
       "      <th>Age_08_04</th>\n",
       "      <th>KM</th>\n",
       "      <th>HP</th>\n",
       "      <th>Automatic</th>\n",
       "      <th>cc</th>\n",
       "      <th>Doors</th>\n",
       "      <th>Cylinders</th>\n",
       "      <th>Gears</th>\n",
       "      <th>Weight</th>\n",
       "    </tr>\n",
       "  </thead>\n",
       "  <tbody>\n",
       "    <tr>\n",
       "      <th>0</th>\n",
       "      <td>9</td>\n",
       "      <td>12950</td>\n",
       "      <td>23</td>\n",
       "      <td>71138</td>\n",
       "      <td>69</td>\n",
       "      <td>0</td>\n",
       "      <td>1900</td>\n",
       "      <td>3</td>\n",
       "      <td>4</td>\n",
       "      <td>5</td>\n",
       "      <td>1105</td>\n",
       "    </tr>\n",
       "    <tr>\n",
       "      <th>1</th>\n",
       "      <td>18</td>\n",
       "      <td>16750</td>\n",
       "      <td>24</td>\n",
       "      <td>25563</td>\n",
       "      <td>110</td>\n",
       "      <td>0</td>\n",
       "      <td>1600</td>\n",
       "      <td>3</td>\n",
       "      <td>4</td>\n",
       "      <td>5</td>\n",
       "      <td>1065</td>\n",
       "    </tr>\n",
       "    <tr>\n",
       "      <th>2</th>\n",
       "      <td>19</td>\n",
       "      <td>16950</td>\n",
       "      <td>30</td>\n",
       "      <td>64359</td>\n",
       "      <td>110</td>\n",
       "      <td>0</td>\n",
       "      <td>1600</td>\n",
       "      <td>3</td>\n",
       "      <td>4</td>\n",
       "      <td>5</td>\n",
       "      <td>1105</td>\n",
       "    </tr>\n",
       "    <tr>\n",
       "      <th>3</th>\n",
       "      <td>20</td>\n",
       "      <td>15950</td>\n",
       "      <td>30</td>\n",
       "      <td>67660</td>\n",
       "      <td>110</td>\n",
       "      <td>0</td>\n",
       "      <td>1600</td>\n",
       "      <td>3</td>\n",
       "      <td>4</td>\n",
       "      <td>5</td>\n",
       "      <td>1105</td>\n",
       "    </tr>\n",
       "    <tr>\n",
       "      <th>4</th>\n",
       "      <td>22</td>\n",
       "      <td>15950</td>\n",
       "      <td>28</td>\n",
       "      <td>56349</td>\n",
       "      <td>110</td>\n",
       "      <td>0</td>\n",
       "      <td>1600</td>\n",
       "      <td>3</td>\n",
       "      <td>4</td>\n",
       "      <td>5</td>\n",
       "      <td>1120</td>\n",
       "    </tr>\n",
       "    <tr>\n",
       "      <th>...</th>\n",
       "      <td>...</td>\n",
       "      <td>...</td>\n",
       "      <td>...</td>\n",
       "      <td>...</td>\n",
       "      <td>...</td>\n",
       "      <td>...</td>\n",
       "      <td>...</td>\n",
       "      <td>...</td>\n",
       "      <td>...</td>\n",
       "      <td>...</td>\n",
       "      <td>...</td>\n",
       "    </tr>\n",
       "    <tr>\n",
       "      <th>1093</th>\n",
       "      <td>1431</td>\n",
       "      <td>7500</td>\n",
       "      <td>69</td>\n",
       "      <td>20544</td>\n",
       "      <td>86</td>\n",
       "      <td>0</td>\n",
       "      <td>1300</td>\n",
       "      <td>3</td>\n",
       "      <td>4</td>\n",
       "      <td>5</td>\n",
       "      <td>1025</td>\n",
       "    </tr>\n",
       "    <tr>\n",
       "      <th>1094</th>\n",
       "      <td>1432</td>\n",
       "      <td>10845</td>\n",
       "      <td>72</td>\n",
       "      <td>19000</td>\n",
       "      <td>86</td>\n",
       "      <td>0</td>\n",
       "      <td>1300</td>\n",
       "      <td>3</td>\n",
       "      <td>4</td>\n",
       "      <td>5</td>\n",
       "      <td>1015</td>\n",
       "    </tr>\n",
       "    <tr>\n",
       "      <th>1095</th>\n",
       "      <td>1433</td>\n",
       "      <td>8500</td>\n",
       "      <td>71</td>\n",
       "      <td>17016</td>\n",
       "      <td>86</td>\n",
       "      <td>0</td>\n",
       "      <td>1300</td>\n",
       "      <td>3</td>\n",
       "      <td>4</td>\n",
       "      <td>5</td>\n",
       "      <td>1015</td>\n",
       "    </tr>\n",
       "    <tr>\n",
       "      <th>1096</th>\n",
       "      <td>1434</td>\n",
       "      <td>7250</td>\n",
       "      <td>70</td>\n",
       "      <td>16916</td>\n",
       "      <td>86</td>\n",
       "      <td>0</td>\n",
       "      <td>1300</td>\n",
       "      <td>3</td>\n",
       "      <td>4</td>\n",
       "      <td>5</td>\n",
       "      <td>1015</td>\n",
       "    </tr>\n",
       "    <tr>\n",
       "      <th>1097</th>\n",
       "      <td>1435</td>\n",
       "      <td>6950</td>\n",
       "      <td>76</td>\n",
       "      <td>1</td>\n",
       "      <td>110</td>\n",
       "      <td>0</td>\n",
       "      <td>1600</td>\n",
       "      <td>5</td>\n",
       "      <td>4</td>\n",
       "      <td>5</td>\n",
       "      <td>1114</td>\n",
       "    </tr>\n",
       "  </tbody>\n",
       "</table>\n",
       "<p>1098 rows × 11 columns</p>\n",
       "</div>"
      ],
      "text/plain": [
       "      index  Price  Age_08_04     KM   HP  Automatic    cc  Doors  Cylinders  \\\n",
       "0         9  12950         23  71138   69          0  1900      3          4   \n",
       "1        18  16750         24  25563  110          0  1600      3          4   \n",
       "2        19  16950         30  64359  110          0  1600      3          4   \n",
       "3        20  15950         30  67660  110          0  1600      3          4   \n",
       "4        22  15950         28  56349  110          0  1600      3          4   \n",
       "...     ...    ...        ...    ...  ...        ...   ...    ...        ...   \n",
       "1093   1431   7500         69  20544   86          0  1300      3          4   \n",
       "1094   1432  10845         72  19000   86          0  1300      3          4   \n",
       "1095   1433   8500         71  17016   86          0  1300      3          4   \n",
       "1096   1434   7250         70  16916   86          0  1300      3          4   \n",
       "1097   1435   6950         76      1  110          0  1600      5          4   \n",
       "\n",
       "      Gears  Weight  \n",
       "0         5    1105  \n",
       "1         5    1065  \n",
       "2         5    1105  \n",
       "3         5    1105  \n",
       "4         5    1120  \n",
       "...     ...     ...  \n",
       "1093      5    1025  \n",
       "1094      5    1015  \n",
       "1095      5    1015  \n",
       "1096      5    1015  \n",
       "1097      5    1114  \n",
       "\n",
       "[1098 rows x 11 columns]"
      ]
     },
     "execution_count": 28,
     "metadata": {},
     "output_type": "execute_result"
    }
   ],
   "source": [
    "df_new.reset_index()"
   ]
  },
  {
   "cell_type": "code",
   "execution_count": 29,
   "id": "b1c80c0a",
   "metadata": {},
   "outputs": [],
   "source": [
    "from sklearn.preprocessing import StandardScaler"
   ]
  },
  {
   "cell_type": "code",
   "execution_count": 30,
   "id": "6a2bd72d",
   "metadata": {},
   "outputs": [],
   "source": [
    "std_sca= StandardScaler()"
   ]
  },
  {
   "cell_type": "code",
   "execution_count": 31,
   "id": "3c15df42",
   "metadata": {},
   "outputs": [],
   "source": [
    "df_new1=pd.DataFrame(std_sca.fit_transform(df_new),columns=df_new.columns)"
   ]
  },
  {
   "cell_type": "code",
   "execution_count": 32,
   "id": "0615c41b",
   "metadata": {},
   "outputs": [
    {
     "data": {
      "text/html": [
       "<div>\n",
       "<style scoped>\n",
       "    .dataframe tbody tr th:only-of-type {\n",
       "        vertical-align: middle;\n",
       "    }\n",
       "\n",
       "    .dataframe tbody tr th {\n",
       "        vertical-align: top;\n",
       "    }\n",
       "\n",
       "    .dataframe thead th {\n",
       "        text-align: right;\n",
       "    }\n",
       "</style>\n",
       "<table border=\"1\" class=\"dataframe\">\n",
       "  <thead>\n",
       "    <tr style=\"text-align: right;\">\n",
       "      <th></th>\n",
       "      <th>Price</th>\n",
       "      <th>Age_08_04</th>\n",
       "      <th>KM</th>\n",
       "      <th>HP</th>\n",
       "      <th>Automatic</th>\n",
       "      <th>cc</th>\n",
       "      <th>Doors</th>\n",
       "      <th>Cylinders</th>\n",
       "      <th>Gears</th>\n",
       "      <th>Weight</th>\n",
       "    </tr>\n",
       "  </thead>\n",
       "  <tbody>\n",
       "    <tr>\n",
       "      <th>0</th>\n",
       "      <td>1.236933</td>\n",
       "      <td>-2.288994</td>\n",
       "      <td>0.184006</td>\n",
       "      <td>-3.052238</td>\n",
       "      <td>0.0</td>\n",
       "      <td>2.762203</td>\n",
       "      <td>-1.105551</td>\n",
       "      <td>0.0</td>\n",
       "      <td>0.0</td>\n",
       "      <td>1.683106</td>\n",
       "    </tr>\n",
       "    <tr>\n",
       "      <th>1</th>\n",
       "      <td>2.856659</td>\n",
       "      <td>-2.224668</td>\n",
       "      <td>-1.453622</td>\n",
       "      <td>0.683134</td>\n",
       "      <td>0.0</td>\n",
       "      <td>0.581673</td>\n",
       "      <td>-1.105551</td>\n",
       "      <td>0.0</td>\n",
       "      <td>0.0</td>\n",
       "      <td>0.290637</td>\n",
       "    </tr>\n",
       "    <tr>\n",
       "      <th>2</th>\n",
       "      <td>2.941908</td>\n",
       "      <td>-1.838717</td>\n",
       "      <td>-0.059581</td>\n",
       "      <td>0.683134</td>\n",
       "      <td>0.0</td>\n",
       "      <td>0.581673</td>\n",
       "      <td>-1.105551</td>\n",
       "      <td>0.0</td>\n",
       "      <td>0.0</td>\n",
       "      <td>1.683106</td>\n",
       "    </tr>\n",
       "    <tr>\n",
       "      <th>3</th>\n",
       "      <td>2.515664</td>\n",
       "      <td>-1.838717</td>\n",
       "      <td>0.059032</td>\n",
       "      <td>0.683134</td>\n",
       "      <td>0.0</td>\n",
       "      <td>0.581673</td>\n",
       "      <td>-1.105551</td>\n",
       "      <td>0.0</td>\n",
       "      <td>0.0</td>\n",
       "      <td>1.683106</td>\n",
       "    </tr>\n",
       "    <tr>\n",
       "      <th>4</th>\n",
       "      <td>2.515664</td>\n",
       "      <td>-1.967368</td>\n",
       "      <td>-0.347401</td>\n",
       "      <td>0.683134</td>\n",
       "      <td>0.0</td>\n",
       "      <td>0.581673</td>\n",
       "      <td>-1.105551</td>\n",
       "      <td>0.0</td>\n",
       "      <td>0.0</td>\n",
       "      <td>2.205282</td>\n",
       "    </tr>\n",
       "    <tr>\n",
       "      <th>...</th>\n",
       "      <td>...</td>\n",
       "      <td>...</td>\n",
       "      <td>...</td>\n",
       "      <td>...</td>\n",
       "      <td>...</td>\n",
       "      <td>...</td>\n",
       "      <td>...</td>\n",
       "      <td>...</td>\n",
       "      <td>...</td>\n",
       "      <td>...</td>\n",
       "    </tr>\n",
       "    <tr>\n",
       "      <th>1093</th>\n",
       "      <td>-1.086096</td>\n",
       "      <td>0.669967</td>\n",
       "      <td>-1.633968</td>\n",
       "      <td>-1.503425</td>\n",
       "      <td>0.0</td>\n",
       "      <td>-1.598857</td>\n",
       "      <td>-1.105551</td>\n",
       "      <td>0.0</td>\n",
       "      <td>0.0</td>\n",
       "      <td>-1.101833</td>\n",
       "    </tr>\n",
       "    <tr>\n",
       "      <th>1094</th>\n",
       "      <td>0.339689</td>\n",
       "      <td>0.862942</td>\n",
       "      <td>-1.689447</td>\n",
       "      <td>-1.503425</td>\n",
       "      <td>0.0</td>\n",
       "      <td>-1.598857</td>\n",
       "      <td>-1.105551</td>\n",
       "      <td>0.0</td>\n",
       "      <td>0.0</td>\n",
       "      <td>-1.449950</td>\n",
       "    </tr>\n",
       "    <tr>\n",
       "      <th>1095</th>\n",
       "      <td>-0.659852</td>\n",
       "      <td>0.798617</td>\n",
       "      <td>-1.760738</td>\n",
       "      <td>-1.503425</td>\n",
       "      <td>0.0</td>\n",
       "      <td>-1.598857</td>\n",
       "      <td>-1.105551</td>\n",
       "      <td>0.0</td>\n",
       "      <td>0.0</td>\n",
       "      <td>-1.449950</td>\n",
       "    </tr>\n",
       "    <tr>\n",
       "      <th>1096</th>\n",
       "      <td>-1.192657</td>\n",
       "      <td>0.734292</td>\n",
       "      <td>-1.764331</td>\n",
       "      <td>-1.503425</td>\n",
       "      <td>0.0</td>\n",
       "      <td>-1.598857</td>\n",
       "      <td>-1.105551</td>\n",
       "      <td>0.0</td>\n",
       "      <td>0.0</td>\n",
       "      <td>-1.449950</td>\n",
       "    </tr>\n",
       "    <tr>\n",
       "      <th>1097</th>\n",
       "      <td>-1.320530</td>\n",
       "      <td>1.120243</td>\n",
       "      <td>-2.372131</td>\n",
       "      <td>0.683134</td>\n",
       "      <td>0.0</td>\n",
       "      <td>0.581673</td>\n",
       "      <td>0.996431</td>\n",
       "      <td>0.0</td>\n",
       "      <td>0.0</td>\n",
       "      <td>1.996412</td>\n",
       "    </tr>\n",
       "  </tbody>\n",
       "</table>\n",
       "<p>1098 rows × 10 columns</p>\n",
       "</div>"
      ],
      "text/plain": [
       "         Price  Age_08_04        KM        HP  Automatic        cc     Doors  \\\n",
       "0     1.236933  -2.288994  0.184006 -3.052238        0.0  2.762203 -1.105551   \n",
       "1     2.856659  -2.224668 -1.453622  0.683134        0.0  0.581673 -1.105551   \n",
       "2     2.941908  -1.838717 -0.059581  0.683134        0.0  0.581673 -1.105551   \n",
       "3     2.515664  -1.838717  0.059032  0.683134        0.0  0.581673 -1.105551   \n",
       "4     2.515664  -1.967368 -0.347401  0.683134        0.0  0.581673 -1.105551   \n",
       "...        ...        ...       ...       ...        ...       ...       ...   \n",
       "1093 -1.086096   0.669967 -1.633968 -1.503425        0.0 -1.598857 -1.105551   \n",
       "1094  0.339689   0.862942 -1.689447 -1.503425        0.0 -1.598857 -1.105551   \n",
       "1095 -0.659852   0.798617 -1.760738 -1.503425        0.0 -1.598857 -1.105551   \n",
       "1096 -1.192657   0.734292 -1.764331 -1.503425        0.0 -1.598857 -1.105551   \n",
       "1097 -1.320530   1.120243 -2.372131  0.683134        0.0  0.581673  0.996431   \n",
       "\n",
       "      Cylinders  Gears    Weight  \n",
       "0           0.0    0.0  1.683106  \n",
       "1           0.0    0.0  0.290637  \n",
       "2           0.0    0.0  1.683106  \n",
       "3           0.0    0.0  1.683106  \n",
       "4           0.0    0.0  2.205282  \n",
       "...         ...    ...       ...  \n",
       "1093        0.0    0.0 -1.101833  \n",
       "1094        0.0    0.0 -1.449950  \n",
       "1095        0.0    0.0 -1.449950  \n",
       "1096        0.0    0.0 -1.449950  \n",
       "1097        0.0    0.0  1.996412  \n",
       "\n",
       "[1098 rows x 10 columns]"
      ]
     },
     "execution_count": 32,
     "metadata": {},
     "output_type": "execute_result"
    }
   ],
   "source": [
    "df_new1"
   ]
  },
  {
   "cell_type": "code",
   "execution_count": 33,
   "id": "0f9e5f34",
   "metadata": {},
   "outputs": [
    {
     "data": {
      "text/plain": [
       "0       1.236933\n",
       "1       2.856659\n",
       "2       2.941908\n",
       "3       2.515664\n",
       "4       2.515664\n",
       "          ...   \n",
       "1093   -1.086096\n",
       "1094    0.339689\n",
       "1095   -0.659852\n",
       "1096   -1.192657\n",
       "1097   -1.320530\n",
       "Name: Price, Length: 1098, dtype: float64"
      ]
     },
     "execution_count": 33,
     "metadata": {},
     "output_type": "execute_result"
    }
   ],
   "source": [
    "target=df_new1['Price']\n",
    "target"
   ]
  },
  {
   "cell_type": "code",
   "execution_count": 34,
   "id": "229e955a",
   "metadata": {},
   "outputs": [
    {
     "data": {
      "text/html": [
       "<div>\n",
       "<style scoped>\n",
       "    .dataframe tbody tr th:only-of-type {\n",
       "        vertical-align: middle;\n",
       "    }\n",
       "\n",
       "    .dataframe tbody tr th {\n",
       "        vertical-align: top;\n",
       "    }\n",
       "\n",
       "    .dataframe thead th {\n",
       "        text-align: right;\n",
       "    }\n",
       "</style>\n",
       "<table border=\"1\" class=\"dataframe\">\n",
       "  <thead>\n",
       "    <tr style=\"text-align: right;\">\n",
       "      <th></th>\n",
       "      <th>Age_08_04</th>\n",
       "      <th>KM</th>\n",
       "      <th>HP</th>\n",
       "      <th>Automatic</th>\n",
       "      <th>cc</th>\n",
       "      <th>Doors</th>\n",
       "      <th>Cylinders</th>\n",
       "      <th>Gears</th>\n",
       "      <th>Weight</th>\n",
       "    </tr>\n",
       "  </thead>\n",
       "  <tbody>\n",
       "    <tr>\n",
       "      <th>0</th>\n",
       "      <td>-2.288994</td>\n",
       "      <td>0.184006</td>\n",
       "      <td>-3.052238</td>\n",
       "      <td>0.0</td>\n",
       "      <td>2.762203</td>\n",
       "      <td>-1.105551</td>\n",
       "      <td>0.0</td>\n",
       "      <td>0.0</td>\n",
       "      <td>1.683106</td>\n",
       "    </tr>\n",
       "    <tr>\n",
       "      <th>1</th>\n",
       "      <td>-2.224668</td>\n",
       "      <td>-1.453622</td>\n",
       "      <td>0.683134</td>\n",
       "      <td>0.0</td>\n",
       "      <td>0.581673</td>\n",
       "      <td>-1.105551</td>\n",
       "      <td>0.0</td>\n",
       "      <td>0.0</td>\n",
       "      <td>0.290637</td>\n",
       "    </tr>\n",
       "    <tr>\n",
       "      <th>2</th>\n",
       "      <td>-1.838717</td>\n",
       "      <td>-0.059581</td>\n",
       "      <td>0.683134</td>\n",
       "      <td>0.0</td>\n",
       "      <td>0.581673</td>\n",
       "      <td>-1.105551</td>\n",
       "      <td>0.0</td>\n",
       "      <td>0.0</td>\n",
       "      <td>1.683106</td>\n",
       "    </tr>\n",
       "    <tr>\n",
       "      <th>3</th>\n",
       "      <td>-1.838717</td>\n",
       "      <td>0.059032</td>\n",
       "      <td>0.683134</td>\n",
       "      <td>0.0</td>\n",
       "      <td>0.581673</td>\n",
       "      <td>-1.105551</td>\n",
       "      <td>0.0</td>\n",
       "      <td>0.0</td>\n",
       "      <td>1.683106</td>\n",
       "    </tr>\n",
       "    <tr>\n",
       "      <th>4</th>\n",
       "      <td>-1.967368</td>\n",
       "      <td>-0.347401</td>\n",
       "      <td>0.683134</td>\n",
       "      <td>0.0</td>\n",
       "      <td>0.581673</td>\n",
       "      <td>-1.105551</td>\n",
       "      <td>0.0</td>\n",
       "      <td>0.0</td>\n",
       "      <td>2.205282</td>\n",
       "    </tr>\n",
       "    <tr>\n",
       "      <th>...</th>\n",
       "      <td>...</td>\n",
       "      <td>...</td>\n",
       "      <td>...</td>\n",
       "      <td>...</td>\n",
       "      <td>...</td>\n",
       "      <td>...</td>\n",
       "      <td>...</td>\n",
       "      <td>...</td>\n",
       "      <td>...</td>\n",
       "    </tr>\n",
       "    <tr>\n",
       "      <th>1093</th>\n",
       "      <td>0.669967</td>\n",
       "      <td>-1.633968</td>\n",
       "      <td>-1.503425</td>\n",
       "      <td>0.0</td>\n",
       "      <td>-1.598857</td>\n",
       "      <td>-1.105551</td>\n",
       "      <td>0.0</td>\n",
       "      <td>0.0</td>\n",
       "      <td>-1.101833</td>\n",
       "    </tr>\n",
       "    <tr>\n",
       "      <th>1094</th>\n",
       "      <td>0.862942</td>\n",
       "      <td>-1.689447</td>\n",
       "      <td>-1.503425</td>\n",
       "      <td>0.0</td>\n",
       "      <td>-1.598857</td>\n",
       "      <td>-1.105551</td>\n",
       "      <td>0.0</td>\n",
       "      <td>0.0</td>\n",
       "      <td>-1.449950</td>\n",
       "    </tr>\n",
       "    <tr>\n",
       "      <th>1095</th>\n",
       "      <td>0.798617</td>\n",
       "      <td>-1.760738</td>\n",
       "      <td>-1.503425</td>\n",
       "      <td>0.0</td>\n",
       "      <td>-1.598857</td>\n",
       "      <td>-1.105551</td>\n",
       "      <td>0.0</td>\n",
       "      <td>0.0</td>\n",
       "      <td>-1.449950</td>\n",
       "    </tr>\n",
       "    <tr>\n",
       "      <th>1096</th>\n",
       "      <td>0.734292</td>\n",
       "      <td>-1.764331</td>\n",
       "      <td>-1.503425</td>\n",
       "      <td>0.0</td>\n",
       "      <td>-1.598857</td>\n",
       "      <td>-1.105551</td>\n",
       "      <td>0.0</td>\n",
       "      <td>0.0</td>\n",
       "      <td>-1.449950</td>\n",
       "    </tr>\n",
       "    <tr>\n",
       "      <th>1097</th>\n",
       "      <td>1.120243</td>\n",
       "      <td>-2.372131</td>\n",
       "      <td>0.683134</td>\n",
       "      <td>0.0</td>\n",
       "      <td>0.581673</td>\n",
       "      <td>0.996431</td>\n",
       "      <td>0.0</td>\n",
       "      <td>0.0</td>\n",
       "      <td>1.996412</td>\n",
       "    </tr>\n",
       "  </tbody>\n",
       "</table>\n",
       "<p>1098 rows × 9 columns</p>\n",
       "</div>"
      ],
      "text/plain": [
       "      Age_08_04        KM        HP  Automatic        cc     Doors  Cylinders  \\\n",
       "0     -2.288994  0.184006 -3.052238        0.0  2.762203 -1.105551        0.0   \n",
       "1     -2.224668 -1.453622  0.683134        0.0  0.581673 -1.105551        0.0   \n",
       "2     -1.838717 -0.059581  0.683134        0.0  0.581673 -1.105551        0.0   \n",
       "3     -1.838717  0.059032  0.683134        0.0  0.581673 -1.105551        0.0   \n",
       "4     -1.967368 -0.347401  0.683134        0.0  0.581673 -1.105551        0.0   \n",
       "...         ...       ...       ...        ...       ...       ...        ...   \n",
       "1093   0.669967 -1.633968 -1.503425        0.0 -1.598857 -1.105551        0.0   \n",
       "1094   0.862942 -1.689447 -1.503425        0.0 -1.598857 -1.105551        0.0   \n",
       "1095   0.798617 -1.760738 -1.503425        0.0 -1.598857 -1.105551        0.0   \n",
       "1096   0.734292 -1.764331 -1.503425        0.0 -1.598857 -1.105551        0.0   \n",
       "1097   1.120243 -2.372131  0.683134        0.0  0.581673  0.996431        0.0   \n",
       "\n",
       "      Gears    Weight  \n",
       "0       0.0  1.683106  \n",
       "1       0.0  0.290637  \n",
       "2       0.0  1.683106  \n",
       "3       0.0  1.683106  \n",
       "4       0.0  2.205282  \n",
       "...     ...       ...  \n",
       "1093    0.0 -1.101833  \n",
       "1094    0.0 -1.449950  \n",
       "1095    0.0 -1.449950  \n",
       "1096    0.0 -1.449950  \n",
       "1097    0.0  1.996412  \n",
       "\n",
       "[1098 rows x 9 columns]"
      ]
     },
     "execution_count": 34,
     "metadata": {},
     "output_type": "execute_result"
    }
   ],
   "source": [
    "features = df_new1.drop(columns='Price')\n",
    "features"
   ]
  },
  {
   "cell_type": "markdown",
   "id": "7d75602e",
   "metadata": {},
   "source": [
    "## 2. Split the dataset into training and testing sets (e.g., 80% training, 20% testing)."
   ]
  },
  {
   "cell_type": "code",
   "execution_count": 35,
   "id": "0901dd97",
   "metadata": {},
   "outputs": [],
   "source": [
    "from sklearn.model_selection import train_test_split"
   ]
  },
  {
   "cell_type": "code",
   "execution_count": 36,
   "id": "61297589",
   "metadata": {},
   "outputs": [],
   "source": [
    "x_train , x_test , y_train , y_test = train_test_split(features,target,train_size=0.80,random_state=10)"
   ]
  },
  {
   "cell_type": "code",
   "execution_count": 37,
   "id": "049f29a4",
   "metadata": {},
   "outputs": [
    {
     "name": "stdout",
     "output_type": "stream",
     "text": [
      "(878, 9)\n",
      "(220, 9)\n",
      "(878,)\n",
      "(220,)\n"
     ]
    }
   ],
   "source": [
    "print(x_train.shape)\n",
    "print(x_test.shape)\n",
    "print(y_train.shape)\n",
    "print(y_test.shape)"
   ]
  },
  {
   "cell_type": "markdown",
   "id": "a364d0ce",
   "metadata": {},
   "source": [
    "## Build a multiple linear regression model using the training dataset. Interpret the coefficients of the model. Build minimum of 3 different models."
   ]
  },
  {
   "cell_type": "code",
   "execution_count": 38,
   "id": "5b4d8e04",
   "metadata": {},
   "outputs": [],
   "source": [
    "from sklearn.linear_model import LinearRegression\n",
    "from sklearn.metrics import r2_score"
   ]
  },
  {
   "cell_type": "code",
   "execution_count": 39,
   "id": "13ef51c9",
   "metadata": {},
   "outputs": [],
   "source": [
    "mult_reg = LinearRegression()"
   ]
  },
  {
   "cell_type": "code",
   "execution_count": 40,
   "id": "48e0bdc6",
   "metadata": {},
   "outputs": [
    {
     "data": {
      "text/plain": [
       "LinearRegression()"
      ]
     },
     "execution_count": 40,
     "metadata": {},
     "output_type": "execute_result"
    }
   ],
   "source": [
    "mult_reg.fit(x_train,y_train)"
   ]
  },
  {
   "cell_type": "code",
   "execution_count": 41,
   "id": "054b1224",
   "metadata": {},
   "outputs": [
    {
     "data": {
      "text/plain": [
       "array([-4.68755780e-01, -4.66378797e-02, -6.00077548e-01, -1.17687104e+00,\n",
       "       -1.93077615e-01, -6.62802769e-01, -7.37981921e-01,  2.68345032e+00,\n",
       "        1.97931922e-01, -9.05694656e-02,  9.71520206e-01, -3.02882830e-01,\n",
       "        1.77147582e-01, -7.51174429e-01, -1.19237182e+00, -5.25350040e-01,\n",
       "        2.07774689e+00, -7.26392759e-01,  9.97806560e-01,  9.40085894e-01,\n",
       "       -3.43501136e-01,  8.86020427e-01,  8.25672009e-02, -8.47928532e-01,\n",
       "        1.03409475e-01,  8.07258135e-01, -1.42368968e+00, -2.33343260e-01,\n",
       "       -6.35959763e-01,  2.39800612e-01, -4.71808639e-01, -3.67854395e-01,\n",
       "        4.79457269e-01, -3.41304141e-01, -9.25626629e-01, -8.40703157e-01,\n",
       "       -9.68299032e-01,  1.30547983e+00, -8.82210797e-01, -3.84893499e-01,\n",
       "        1.82869759e-01, -1.13712444e-01, -7.33363474e-01,  1.00155859e+00,\n",
       "       -6.20342332e-01, -3.38785805e-01, -7.49664965e-01, -1.09100348e+00,\n",
       "       -8.92297122e-01,  7.09088238e-01, -6.33419251e-01, -5.28289506e-01,\n",
       "       -6.77365294e-01,  5.34119417e-01,  1.22731576e+00,  9.97462404e-01,\n",
       "       -7.12484971e-01,  5.59315160e-01, -9.14337552e-01, -5.05503626e-02,\n",
       "       -1.52706278e-01,  1.33857195e+00,  7.46838025e-01,  7.25232904e-01,\n",
       "       -1.04464128e-01, -5.29502065e-01,  9.31938428e-01, -3.37716973e-02,\n",
       "        2.01813093e-01,  4.09323688e-01, -4.58964935e-04, -8.96473627e-01,\n",
       "        7.45528909e-01, -7.52444648e-01, -5.37087578e-01, -1.54643668e+00,\n",
       "       -1.81905062e-01,  5.32565375e-01, -1.21906073e+00, -6.90957596e-01,\n",
       "        1.21623283e+00,  1.06352552e+00, -4.21796546e-01, -8.10267971e-01,\n",
       "        2.12496788e+00, -2.67509757e-01, -9.75810857e-01,  7.45443959e-01,\n",
       "        1.33527031e+00, -3.85569053e-01,  3.00141921e-01, -4.47735296e-01,\n",
       "       -2.69916493e-01, -3.15176972e-01,  2.08315764e+00,  1.28189924e-01,\n",
       "       -1.95010922e-01, -4.03887914e-01,  1.46589503e+00, -2.76565103e-01,\n",
       "       -1.06557479e+00, -2.95394622e-01,  8.44482295e-01,  4.08739695e-01,\n",
       "        1.14052695e+00,  1.06188844e+00, -7.40534695e-01, -7.60027236e-01,\n",
       "        1.28914655e+00, -1.26911548e-01,  2.39992937e-01, -8.51921076e-01,\n",
       "        2.52846279e+00, -9.83515321e-01, -8.36091896e-01, -4.00321094e-01,\n",
       "        2.12121269e+00, -9.62712917e-01, -1.16771499e-01, -1.38468982e+00,\n",
       "        1.04345251e+00, -1.01624553e+00, -1.44066329e+00, -4.20230639e-01,\n",
       "        1.45811017e-01, -9.40327216e-01, -2.98138783e-01,  2.19682256e-01,\n",
       "       -1.35488056e+00, -1.13229352e+00,  1.20264734e+00, -9.67762584e-01,\n",
       "       -1.01475292e+00,  1.50876523e+00, -2.63570426e-01, -4.09768264e-01,\n",
       "       -1.08738971e+00,  1.05666472e+00, -1.06963775e+00, -9.97061585e-01,\n",
       "        7.50709177e-01, -7.07635735e-01, -5.11463997e-01, -7.23180714e-01,\n",
       "       -2.30325612e-01,  1.05485305e+00, -7.27328873e-01, -6.95528261e-01,\n",
       "       -9.57155294e-01,  1.09852144e-02, -6.29304092e-01,  1.16868190e+00,\n",
       "        5.52330461e-01,  4.03360177e-01,  7.30521410e-01, -6.56734048e-01,\n",
       "        8.76461009e-01, -6.14091960e-01,  3.40238792e-01, -9.14345757e-01,\n",
       "       -2.08586769e-01, -3.88438083e-02,  9.57806704e-01, -6.78596865e-01,\n",
       "       -1.98279436e-01, -1.05342703e+00, -9.58443698e-01, -8.71158144e-01,\n",
       "        1.77676842e-01, -1.18277237e+00,  1.30841430e-01,  5.15248000e-01,\n",
       "       -6.11134802e-01,  8.73951445e-01,  7.62628755e-01,  5.15025078e-01,\n",
       "        2.22558266e+00, -4.10453229e-01, -3.08263668e-01,  2.33861260e+00,\n",
       "       -3.16950434e-01,  1.31872286e+00, -1.17670079e+00,  1.34592473e-01,\n",
       "        6.48543006e-01, -9.42327746e-01,  8.93795543e-01, -7.01848036e-01,\n",
       "       -9.82073030e-01,  1.35785628e-01, -4.77895447e-01, -2.07935073e-01,\n",
       "       -9.46073328e-01,  1.44700765e+00,  1.15389129e+00,  4.33804418e-01,\n",
       "       -6.82391217e-01, -1.35598275e+00,  7.18062667e-02, -3.38898954e-01,\n",
       "       -8.58851654e-02,  1.51702675e+00, -7.94121220e-01, -3.79395879e-01,\n",
       "       -3.00059171e-01, -1.61652231e-01,  1.84927157e-01, -9.76243032e-01,\n",
       "        1.53117438e-01, -6.13839313e-01,  5.89089360e-01,  4.38872064e-01,\n",
       "       -3.38798431e-01,  1.15531360e-01,  4.87090136e-01,  4.20045251e-01,\n",
       "        9.51180284e-01,  5.40192673e-01,  2.86298558e-01, -8.87923552e-01,\n",
       "        1.90855577e-01,  9.20932531e-01,  7.93035338e-01,  1.15037020e+00,\n",
       "       -1.23440951e+00,  1.11510549e+00, -8.16905522e-01, -1.31494352e-01,\n",
       "        1.02390198e+00,  4.90987756e-01, -9.58691112e-01, -1.55565173e+00,\n",
       "       -4.47849689e-01, -5.41802463e-01, -8.78212022e-01, -5.70811779e-01,\n",
       "        4.12407554e-01,  1.18467931e+00, -4.20554622e-01, -1.78461400e-01,\n",
       "       -3.85725620e-01,  6.09798295e-01, -1.15675471e+00, -8.11889847e-01,\n",
       "       -6.13126625e-01,  2.25696522e-01, -1.41940119e-01,  2.16338259e+00,\n",
       "        4.90497903e-02,  2.32724789e+00,  1.08408540e+00, -3.04559114e-01,\n",
       "       -3.84362715e-01, -1.19678961e+00, -9.55850028e-01, -1.19421223e+00,\n",
       "        1.01031085e+00, -1.20829837e+00,  7.46099988e-01,  4.31144011e-02,\n",
       "       -8.57590925e-01, -9.10700644e-01, -5.12120433e-01,  2.48107389e+00,\n",
       "       -6.92726501e-01, -9.20635359e-01, -8.15634327e-02,  2.32503001e-01,\n",
       "        2.25655848e+00,  7.00506853e-01, -6.68432556e-01,  2.53929980e+00,\n",
       "       -9.57155294e-01,  9.87359687e-02, -1.17129878e+00,  1.30220134e+00,\n",
       "        3.63875207e-01, -1.21835922e+00, -3.28555604e-01, -7.43744172e-01,\n",
       "       -8.58127865e-01,  8.15868463e-02, -7.15070339e-01, -1.09460360e+00,\n",
       "       -9.08320755e-01, -1.15231870e+00, -4.51489857e-01,  2.21547659e+00,\n",
       "        1.03919811e+00, -3.49866815e-01, -3.17955398e-01,  8.78584505e-01,\n",
       "        7.07375858e-02,  6.55531261e-02,  9.68410081e-01,  2.50510024e+00,\n",
       "       -2.40718496e-01,  8.85837097e-01,  4.57573030e-02,  3.08000647e-01,\n",
       "       -1.06783685e-01, -7.76581200e-01,  7.23016171e-01, -2.67222079e-01,\n",
       "       -1.04773611e+00, -9.31513335e-01,  2.62287410e+00, -8.10471670e-01,\n",
       "       -7.96463030e-02, -1.32292880e+00, -8.40062035e-01,  3.96533700e-01,\n",
       "       -3.85461437e-01, -5.99930835e-01,  4.76094604e-01,  2.07869984e+00,\n",
       "        1.28748795e+00,  9.39300497e-01, -1.01114198e+00,  1.31958770e-01,\n",
       "        1.06281943e+00,  5.16302056e-01, -5.81901747e-01,  5.09870454e-01,\n",
       "        1.18520605e+00, -1.02314202e+00, -3.38341178e-01, -7.53438436e-01,\n",
       "        1.35547976e+00,  1.68122706e-01,  2.92060454e-01, -5.64228115e-01,\n",
       "       -2.68738744e-01, -4.38119515e-01,  6.75638558e-01,  2.02382676e+00,\n",
       "        6.50655419e-01,  1.88132679e-01,  1.17895941e+00, -1.00962173e+00,\n",
       "       -6.40651709e-01,  8.96720274e-01, -9.24948635e-01, -9.14308657e-01,\n",
       "        8.33675312e-01, -1.86659208e-01, -1.16252998e-01,  9.31569334e-01,\n",
       "       -9.33975756e-02,  4.12323057e-02, -2.51039105e-01, -5.71511173e-01,\n",
       "       -7.84220987e-02,  3.68229720e-01, -2.96402215e-02,  8.98044653e-02,\n",
       "       -5.82477501e-01, -2.85746373e-01,  1.18801673e-01,  9.48196865e-01,\n",
       "       -5.59791181e-01, -1.94523315e-01, -1.17796708e+00, -1.30371569e+00,\n",
       "        1.84976561e-01,  9.61762571e-01,  1.65895783e-01,  1.93542630e-01,\n",
       "        1.52304656e+00,  1.38315388e+00, -4.37185184e-01, -5.22564466e-01,\n",
       "       -1.01793266e+00, -1.15085041e+00,  4.11393888e-01,  7.94168718e-01,\n",
       "       -5.81297859e-01, -6.56172256e-01, -2.21253958e-01,  4.87237545e-01,\n",
       "       -8.02582486e-01, -9.04579068e-01,  4.41048894e-01, -6.63510919e-01,\n",
       "       -5.59944855e-01, -1.28089570e-01, -2.56900978e-01, -8.47461054e-01,\n",
       "       -2.45893077e-01, -9.54373066e-01,  1.06684354e+00,  3.39686506e-01,\n",
       "        4.90732580e-02, -1.19476579e-01, -3.72102503e-01,  4.85861363e-01,\n",
       "        5.48668713e-01, -8.80996563e-01,  3.85346896e-01,  6.31173979e-01,\n",
       "       -8.80310580e-01, -1.13286821e+00, -4.55928946e-01, -1.07648191e+00,\n",
       "        5.52414447e-01,  7.24010891e-02,  1.04723340e+00, -1.35001020e+00,\n",
       "       -1.17464195e-01,  8.17037809e-01, -8.63739653e-01, -8.69844535e-01,\n",
       "        1.18602102e+00, -1.12803558e+00,  2.66333849e+00, -1.43416746e-01,\n",
       "       -4.53739742e-01,  4.84189726e-01, -1.24003364e+00,  1.10780759e+00,\n",
       "        1.26655138e-01, -1.98630678e-01,  3.27620722e-01, -8.32515564e-01,\n",
       "        7.62550771e-01, -1.48703937e+00,  2.13960066e-01, -2.58022538e-01,\n",
       "        2.72202532e+00,  1.15426210e+00,  2.64767346e-01,  1.36918776e+00,\n",
       "        2.48640543e+00,  6.59623331e-01,  1.71152543e+00, -9.88019856e-01,\n",
       "       -4.26419227e-01, -9.28125759e-01, -8.49692679e-01,  7.01153740e-02,\n",
       "        9.23683104e-01,  1.55125033e+00, -4.45025532e-01, -1.75843180e-01,\n",
       "       -7.47951192e-01,  1.35657415e-01,  1.04024411e-01, -1.06539839e+00,\n",
       "        1.07966366e+00,  1.53709628e-01, -4.06931098e-01,  8.52203432e-01,\n",
       "       -9.05828975e-01, -2.51671176e-01, -8.70518355e-01,  7.47985213e-01,\n",
       "       -4.21869593e-01, -2.76271530e-01, -8.17788537e-01, -1.55934934e-01,\n",
       "       -5.72924482e-01, -2.71259500e-01, -4.95513832e-01, -1.16375330e+00,\n",
       "        1.35037095e+00, -4.53904197e-01, -1.15076777e+00,  2.26938738e+00,\n",
       "        1.26837518e+00, -4.48042799e-01,  4.32503832e-02,  1.20044309e+00,\n",
       "       -5.23375451e-01,  2.06048861e+00, -6.34585591e-01,  2.03128794e+00,\n",
       "        2.28344674e-01, -8.47261946e-01, -6.17157120e-01, -1.18926907e+00,\n",
       "       -1.43361943e-01,  7.54049320e-01, -1.28327909e+00,  1.47260212e+00,\n",
       "       -1.27116340e+00, -1.09022619e+00, -1.19083358e+00, -7.02046189e-01,\n",
       "        2.58671230e+00, -2.88976622e-01,  2.10485858e+00, -1.03648291e+00,\n",
       "       -3.58959835e-01, -3.97210969e-01,  3.46738285e-01, -7.67595329e-01,\n",
       "        9.94932458e-01, -9.74517138e-01,  4.74776643e-01, -8.65846788e-01,\n",
       "       -7.87880181e-01,  1.23363823e-01,  1.54138330e+00, -3.31753168e-01,\n",
       "        3.96779274e-01,  1.17008627e+00, -4.74723474e-01, -2.92512902e-01,\n",
       "        3.92693131e-01,  4.84747263e-01,  1.07046519e+00, -2.43487141e-01,\n",
       "       -1.44287898e-02,  1.57544428e-02,  9.01734093e-01, -4.32291245e-01,\n",
       "        1.16185810e+00,  1.08071270e+00,  6.34290644e-01,  1.18069024e+00,\n",
       "       -9.99796437e-01, -2.90961700e-01, -8.94949463e-02,  3.33933375e-01,\n",
       "       -3.70232238e-01, -4.80097583e-01, -6.36854328e-01, -1.86550227e-01,\n",
       "       -4.92101724e-01,  2.08835186e+00, -8.58617799e-01,  7.78888572e-01,\n",
       "       -6.46952426e-01,  1.88950771e-01, -8.54651737e-01,  1.42542211e-01,\n",
       "       -8.68979311e-01, -2.31177406e-01,  8.46968084e-02,  4.60066508e-01,\n",
       "       -5.17589225e-01, -6.87018324e-01, -6.06746660e-01, -1.16492549e+00,\n",
       "        1.07715395e+00, -9.02190668e-01, -3.80668859e-01,  3.42556251e-02,\n",
       "        2.72593840e+00, -3.15470128e-01, -9.51070940e-01,  8.24518922e-01,\n",
       "       -7.05879037e-01,  8.47209775e-01, -2.50516905e-01, -7.54672471e-01,\n",
       "        2.71335466e+00, -9.39374112e-01,  1.73360751e+00,  1.32012569e+00,\n",
       "       -5.04694402e-01, -1.86668974e-01, -5.17435163e-01, -1.25597894e+00,\n",
       "        4.73622603e-01, -4.63618843e-01, -5.93326836e-01,  2.18662179e-01,\n",
       "        1.39115997e-01, -2.24195004e-01,  9.59214037e-01, -1.06904073e-01,\n",
       "       -9.48047129e-01,  1.52609776e+00,  2.43175484e+00, -7.93080491e-01,\n",
       "       -6.63353257e-01, -3.78105221e-01,  4.97190847e-01,  4.53901386e-01,\n",
       "       -5.69743429e-01,  1.93376364e-01, -4.06945683e-01, -7.15003838e-01,\n",
       "        2.36024948e-02,  1.23197758e+00,  9.67981164e-01,  8.90198787e-01,\n",
       "       -8.20708574e-01, -1.23421315e+00, -4.02557043e-01,  2.70011542e-01,\n",
       "       -2.71694743e-01, -1.26574280e+00, -5.15221394e-02, -9.83663557e-01,\n",
       "       -8.93184079e-01, -3.07650214e-01, -5.38448958e-01,  2.35655411e+00,\n",
       "        6.26116998e-01, -5.23014815e-01,  6.12338212e-01,  2.13465861e+00,\n",
       "        3.79985454e-01, -6.84469313e-01,  1.88250760e-01,  1.08880862e+00,\n",
       "       -1.26029735e+00, -3.88762404e-01,  3.27854207e-01, -8.23343871e-01,\n",
       "       -1.33182588e+00, -1.62118796e+00,  1.84975375e-02, -1.36874060e-01,\n",
       "       -9.23686351e-01,  7.76639806e-01, -4.28867446e-02, -7.59026294e-03,\n",
       "        2.16700612e+00, -2.99935009e-01, -4.53348254e-01, -9.31730248e-01,\n",
       "       -9.87113491e-01,  1.26757363e+00, -4.19029208e-01,  1.11290972e+00,\n",
       "       -2.63552185e-01, -1.03185027e+00,  3.15651567e-01, -1.10772705e+00,\n",
       "        2.63483249e-01,  2.42262607e-01, -6.32733141e-01, -6.66729478e-02,\n",
       "       -1.29029027e+00,  1.26996397e-01, -5.68538325e-01, -6.94816848e-01,\n",
       "        1.12311244e+00,  5.37925912e-02, -9.97063225e-01, -1.01252348e+00,\n",
       "       -6.60369795e-02,  3.79425976e-01,  7.04431300e-01, -5.28961397e-01,\n",
       "       -3.17364814e-01,  1.20861324e-01, -6.93958555e-01, -3.99033136e-01,\n",
       "       -1.02637765e-01,  1.31237548e-01, -6.66066984e-01, -7.33261705e-01,\n",
       "        2.09790735e+00,  1.18533768e-01,  1.36320812e+00, -8.17582929e-01,\n",
       "       -9.69145885e-02, -1.07022666e-03, -6.02868511e-01,  1.37865425e+00,\n",
       "       -7.22835459e-01,  2.08725374e+00, -9.05907915e-01,  2.46214256e+00,\n",
       "       -1.13373903e+00, -8.00120107e-01, -3.07823983e-01, -2.82911328e-01,\n",
       "       -2.33891302e-01, -1.75486144e-01, -4.70414205e-01, -2.42883799e-01,\n",
       "       -9.67394052e-01,  3.61579057e-01,  6.61297575e-01, -7.77899428e-01,\n",
       "       -3.37502996e-01,  4.82311063e-01,  1.92414436e+00, -1.19186814e+00,\n",
       "       -6.53206726e-01, -5.61643739e-02,  7.36415404e-01,  8.98069001e-01,\n",
       "       -5.28009452e-01, -3.48917693e-01,  2.48177391e+00,  9.07915099e-01,\n",
       "       -1.73171201e-01, -9.22272713e-01,  3.52156419e-01,  1.15599147e+00,\n",
       "       -9.09532739e-01,  8.76709830e-01, -9.89344925e-01, -8.39199200e-01,\n",
       "       -3.59456743e-01, -1.18311703e+00, -5.38315105e-01,  4.61479990e-01,\n",
       "        9.92999092e-01, -1.02244187e+00,  1.15122812e-01, -1.22568296e+00,\n",
       "        6.95270597e-01, -4.30021719e-01,  1.08649654e+00,  1.37631469e-01,\n",
       "        1.03107314e+00, -1.37334668e-01,  4.51625222e-02,  2.38702523e+00,\n",
       "        1.11852973e+00,  3.33817121e-01, -1.85935760e-01,  9.65352869e-01,\n",
       "        4.14526552e-01, -6.49881034e-01, -5.65441625e-01,  6.04001896e-01,\n",
       "       -7.79343166e-03, -7.44802031e-01, -1.09644692e+00, -2.77684657e-01,\n",
       "       -5.35851533e-01,  1.33275549e+00, -3.46120449e-01,  1.31067656e+00,\n",
       "       -2.75421196e-01,  5.63129830e-01, -4.76578429e-01, -9.41252438e-01,\n",
       "       -1.49607488e-01,  6.90956232e-01,  4.85590398e-01,  1.38283621e-01,\n",
       "       -2.07490700e-02, -2.77005822e-01,  3.52388525e-01, -6.38230089e-01,\n",
       "        6.17447527e-01, -1.24533388e+00,  7.68147012e-02,  5.90651994e-01,\n",
       "        1.98376657e-02,  3.65645097e-01, -1.17893112e-01, -4.77922726e-01,\n",
       "       -8.28063235e-01, -5.76782692e-01, -1.41354597e-01,  1.64082268e-01,\n",
       "       -9.58322283e-01, -3.33244343e-01, -3.11084670e-01, -4.56273758e-01,\n",
       "        3.36449814e-01,  2.55024107e+00,  3.85952843e-01, -1.26524148e-01,\n",
       "       -3.79593730e-01,  2.16250910e-01, -4.93768873e-01,  1.39366025e+00,\n",
       "       -1.21690896e+00,  3.31189063e-01,  9.41318737e-01, -6.83980955e-01,\n",
       "        4.80066410e-01, -1.04515739e+00, -7.78822785e-01,  2.00582025e-01,\n",
       "        4.01069083e-01,  8.76165882e-01,  2.44670217e-01, -3.63616704e-01,\n",
       "       -8.27624370e-01,  1.12644933e+00,  5.81171075e-01, -5.15372747e-01,\n",
       "        6.67474860e-01,  1.06620841e+00,  2.00581040e-01,  8.40056423e-01,\n",
       "       -3.77127586e-02, -3.20620658e-01, -3.07146581e-01,  7.86467813e-01,\n",
       "        2.35225196e+00, -8.47492351e-01,  1.67365960e-01,  2.68437663e-01,\n",
       "        5.13668021e-01, -3.72843884e-01,  1.35201079e+00, -8.17653349e-01,\n",
       "        3.72536850e-01, -1.26520764e+00,  2.44626835e+00, -2.02912965e-02,\n",
       "       -1.30035297e+00, -1.11683169e+00, -5.67803023e-01, -8.50077390e-01,\n",
       "       -5.76587537e-01, -1.13969916e-01, -7.77758948e-01, -1.18273026e+00,\n",
       "       -1.18879984e+00, -1.37173472e-01,  4.64244162e-01,  9.48988366e-02,\n",
       "        1.23822476e+00,  4.99055633e-01,  1.35582841e+00,  2.52929858e+00,\n",
       "       -3.78673540e-01, -5.60015300e-01, -8.24299776e-01, -4.27523847e-01,\n",
       "        3.57866477e-02,  1.76139320e-01, -6.26993017e-01,  8.75298355e-01,\n",
       "       -6.66214421e-01, -5.73968835e-01, -6.30683240e-01, -1.42348083e+00,\n",
       "        6.51283734e-01,  3.22056869e-01,  2.94486466e-01,  2.00559486e+00,\n",
       "       -2.10099610e-02,  2.31183981e+00, -3.08446116e-01,  1.06021398e-01,\n",
       "       -1.44918968e+00, -1.03530028e+00, -3.56076834e-01, -2.99282689e-01,\n",
       "        2.07597860e+00, -5.92481299e-01,  3.80843277e-01, -5.34216711e-01,\n",
       "       -7.05151189e-01,  1.76830682e-01, -3.48224744e-01,  1.16716446e+00,\n",
       "        2.99500770e-01, -8.65389535e-01, -6.43319677e-01, -5.33804605e-01,\n",
       "        1.01127756e+00,  4.51764751e-02, -4.57379658e-02,  8.15327682e-01,\n",
       "       -3.68413085e-01,  2.14493410e+00,  6.13253431e-01, -8.54304120e-01,\n",
       "       -1.14865586e+00, -3.33191436e-01,  2.40967660e+00,  6.31956942e-01,\n",
       "       -1.54571069e-02,  2.06055930e-02,  4.09945095e-01, -6.23825596e-01,\n",
       "        2.34162233e+00, -6.52409885e-01,  9.62595916e-02, -6.93145983e-01,\n",
       "        2.27361710e-01, -2.08366955e-01])"
      ]
     },
     "execution_count": 41,
     "metadata": {},
     "output_type": "execute_result"
    }
   ],
   "source": [
    "## for training \n",
    "y_pred=mult_reg.predict(x_train)\n",
    "y_pred"
   ]
  },
  {
   "cell_type": "code",
   "execution_count": 42,
   "id": "56124afe",
   "metadata": {},
   "outputs": [
    {
     "data": {
      "text/plain": [
       "array([-6.99685697e-01, -1.86168421e-01,  9.63855339e-02,  6.24500451e-17,\n",
       "       -1.21356432e-01, -1.84891965e-02,  0.00000000e+00,  0.00000000e+00,\n",
       "        2.45873904e-01])"
      ]
     },
     "execution_count": 42,
     "metadata": {},
     "output_type": "execute_result"
    }
   ],
   "source": [
    "b1=mult_reg.coef_\n",
    "b1"
   ]
  },
  {
   "cell_type": "code",
   "execution_count": 43,
   "id": "7aea4a5a",
   "metadata": {},
   "outputs": [
    {
     "data": {
      "text/plain": [
       "0.006464185443085387"
      ]
     },
     "execution_count": 43,
     "metadata": {},
     "output_type": "execute_result"
    }
   ],
   "source": [
    "b0=mult_reg.intercept_\n",
    "b0"
   ]
  },
  {
   "cell_type": "code",
   "execution_count": 44,
   "id": "9ac2fec7",
   "metadata": {},
   "outputs": [
    {
     "data": {
      "text/plain": [
       "0.8140934716216857"
      ]
     },
     "execution_count": 44,
     "metadata": {},
     "output_type": "execute_result"
    }
   ],
   "source": [
    "r2_score(y_train,y_pred)"
   ]
  },
  {
   "cell_type": "code",
   "execution_count": 45,
   "id": "fd50c493",
   "metadata": {},
   "outputs": [],
   "source": [
    "## testing"
   ]
  },
  {
   "cell_type": "code",
   "execution_count": 46,
   "id": "fa5266c8",
   "metadata": {},
   "outputs": [
    {
     "data": {
      "text/plain": [
       "array([-1.37109554,  0.31029542,  0.98569343, -0.90674675, -0.18746748,\n",
       "        2.30819324,  0.22239705, -0.77378073, -0.9431802 , -1.17082315,\n",
       "       -1.05242399, -0.92730021,  0.10247346,  2.33160103,  1.26044106,\n",
       "        2.34019864, -0.15578057,  2.22951119, -0.83673011,  0.97393562,\n",
       "        0.19263029, -0.51738757,  0.60111839, -0.18874557, -0.24034388,\n",
       "        0.96230166, -0.72258503, -0.5120821 ,  0.43782232,  2.56467273,\n",
       "       -0.92903149,  0.30992181,  0.28537094, -0.30896451,  1.16194716,\n",
       "       -0.96960998, -0.94139095,  1.14596972, -0.53914515, -0.05065944,\n",
       "        0.27253423, -1.09824114, -1.10272795, -0.95656098,  0.34885138,\n",
       "       -0.94379601, -0.69104784, -0.60397182,  2.24139727,  0.96696511,\n",
       "       -0.79271545, -0.21297134, -0.35190551, -0.82902403,  0.01293213,\n",
       "       -1.15233069, -0.74387861,  0.13710887,  0.14095653,  2.12270762,\n",
       "        1.1045758 , -1.26087648,  0.44591776,  0.56369175, -0.06508244,\n",
       "        1.17730458, -0.3194025 ,  1.43625417,  0.09378132, -0.46578761,\n",
       "        0.45311213, -1.0749762 , -0.80051333, -0.73087884, -1.28701107,\n",
       "        0.3337842 , -0.1954041 ,  0.38357783, -0.57615941, -0.804016  ,\n",
       "        0.50754122, -0.06166408, -0.64438363,  0.56861903,  1.02444997,\n",
       "        1.1445519 , -0.17211544, -0.73317566, -0.8910685 ,  0.63750888,\n",
       "       -0.89146289, -1.14119307, -0.84549245, -0.81445126, -0.31714938,\n",
       "        0.34587616, -0.571948  , -0.36347459,  1.38598591,  0.02483455,\n",
       "        1.40538468,  0.55579058, -1.07268896,  0.12043391, -1.05302948,\n",
       "       -0.96159354, -0.56909848, -0.72305104, -0.09478155, -1.22676951,\n",
       "        0.28296469,  0.99160804,  0.67399126, -0.61657002,  0.57348939,\n",
       "        0.35431123, -0.47893308, -0.27958691,  0.35171464,  0.93252279,\n",
       "        1.05337987, -0.61860975,  0.11883559,  0.95294437, -0.02386116,\n",
       "        1.42097797, -0.8097202 , -0.77833643,  0.60886176, -0.82632582,\n",
       "       -0.76358387,  1.10151909,  1.84844939, -1.08463341, -0.48061215,\n",
       "       -1.24809951,  1.0697557 , -0.02264193,  1.83324951, -0.04145025,\n",
       "       -0.98177948, -0.0698241 , -1.28645758,  0.10274773, -1.13437357,\n",
       "        2.16485839, -0.1543663 ,  0.08724013, -0.10144661, -0.31128267,\n",
       "        0.97027805, -0.67544975, -1.27177634, -0.71988994,  0.5805183 ,\n",
       "       -0.19120652,  0.63869292,  1.09802097, -0.77763066, -0.07778663,\n",
       "        1.77086492, -0.56737173,  0.60652721, -0.81682424, -0.45261928,\n",
       "        0.99152146, -0.90546014, -0.91181239, -0.36568238, -0.32832451,\n",
       "       -0.05659592,  1.17407984, -0.67613068,  1.12233567,  0.68999519,\n",
       "        0.92719596, -1.17642324, -0.54440217, -1.18472936,  0.1623161 ,\n",
       "        0.4097606 , -0.23684984, -0.00520341, -0.03086233, -0.52403792,\n",
       "        0.20468332, -0.24917605,  0.71160587, -0.28053833, -1.26973604,\n",
       "        0.41086314, -0.24008028,  0.89035645, -0.25280642, -0.29545155,\n",
       "        1.92080657, -1.11802728, -0.44209138, -0.18693597, -0.28655598,\n",
       "       -0.78409687, -1.25022386, -0.04958799,  1.21554102, -1.15787438,\n",
       "       -0.22650684, -0.51984868, -0.61098173,  0.03334321,  0.11275122,\n",
       "       -1.0021939 , -0.43136987,  0.34589803, -0.51399048, -0.35320095,\n",
       "       -0.01120311, -0.80853092,  2.41071751,  0.2576749 , -0.707803  ])"
      ]
     },
     "execution_count": 46,
     "metadata": {},
     "output_type": "execute_result"
    }
   ],
   "source": [
    "y_pred_1=mult_reg.predict(x_test)\n",
    "y_pred_1"
   ]
  },
  {
   "cell_type": "code",
   "execution_count": 47,
   "id": "c61842f1",
   "metadata": {},
   "outputs": [
    {
     "data": {
      "text/plain": [
       "array([-6.99685697e-01, -1.86168421e-01,  9.63855339e-02,  6.24500451e-17,\n",
       "       -1.21356432e-01, -1.84891965e-02,  0.00000000e+00,  0.00000000e+00,\n",
       "        2.45873904e-01])"
      ]
     },
     "execution_count": 47,
     "metadata": {},
     "output_type": "execute_result"
    }
   ],
   "source": [
    "b1=mult_reg.coef_\n",
    "b1"
   ]
  },
  {
   "cell_type": "code",
   "execution_count": 48,
   "id": "f29cef03",
   "metadata": {},
   "outputs": [
    {
     "data": {
      "text/plain": [
       "0.006464185443085387"
      ]
     },
     "execution_count": 48,
     "metadata": {},
     "output_type": "execute_result"
    }
   ],
   "source": [
    "b0=mult_reg.intercept_\n",
    "b0"
   ]
  },
  {
   "cell_type": "code",
   "execution_count": 49,
   "id": "e86308af",
   "metadata": {},
   "outputs": [
    {
     "data": {
      "text/plain": [
       "0.8041423000434587"
      ]
     },
     "execution_count": 49,
     "metadata": {},
     "output_type": "execute_result"
    }
   ],
   "source": [
    "r2_score(y_test,y_pred_1)"
   ]
  },
  {
   "cell_type": "markdown",
   "id": "7fc23855",
   "metadata": {},
   "source": [
    "## 3. Build a multiple linear regression model using the training dataset. Interpret the coefficients of the model. Build minimum of 3 different models."
   ]
  },
  {
   "cell_type": "markdown",
   "id": "9a1ef1df",
   "metadata": {},
   "source": [
    "## ols first"
   ]
  },
  {
   "cell_type": "code",
   "execution_count": 50,
   "id": "183e3dd3",
   "metadata": {},
   "outputs": [],
   "source": [
    "import statsmodels.formula.api as sfa "
   ]
  },
  {
   "cell_type": "code",
   "execution_count": 51,
   "id": "e0dc8090",
   "metadata": {},
   "outputs": [],
   "source": [
    "model1=sfa.ols(formula='Price~Age_08_04+KM+HP+Automatic+cc+Doors+Cylinders+Gears+Weight',data=df_new1).fit()"
   ]
  },
  {
   "cell_type": "code",
   "execution_count": 52,
   "id": "519c7d63",
   "metadata": {},
   "outputs": [
    {
     "data": {
      "text/plain": [
       "<statsmodels.regression.linear_model.RegressionResultsWrapper at 0x1d0213e7978>"
      ]
     },
     "execution_count": 52,
     "metadata": {},
     "output_type": "execute_result"
    }
   ],
   "source": [
    "model1"
   ]
  },
  {
   "cell_type": "code",
   "execution_count": 53,
   "id": "0774278b",
   "metadata": {},
   "outputs": [
    {
     "data": {
      "text/plain": [
       "Intercept    3.517152e-16\n",
       "Age_08_04   -7.024160e-01\n",
       "KM          -1.707883e-01\n",
       "HP           1.156905e-01\n",
       "Automatic   -3.504877e-17\n",
       "cc          -1.305793e-01\n",
       "Doors       -1.604811e-02\n",
       "Cylinders    0.000000e+00\n",
       "Gears        0.000000e+00\n",
       "Weight       2.479130e-01\n",
       "dtype: float64"
      ]
     },
     "execution_count": 53,
     "metadata": {},
     "output_type": "execute_result"
    }
   ],
   "source": [
    "model1.params"
   ]
  },
  {
   "cell_type": "code",
   "execution_count": 54,
   "id": "d9062290",
   "metadata": {},
   "outputs": [
    {
     "data": {
      "text/plain": [
       "0.8128058302373748"
      ]
     },
     "execution_count": 54,
     "metadata": {},
     "output_type": "execute_result"
    }
   ],
   "source": [
    "model1.rsquared"
   ]
  },
  {
   "cell_type": "code",
   "execution_count": 55,
   "id": "e195d092",
   "metadata": {},
   "outputs": [
    {
     "data": {
      "text/plain": [
       "0.811776348093859"
      ]
     },
     "execution_count": 55,
     "metadata": {},
     "output_type": "execute_result"
    }
   ],
   "source": [
    "model1.rsquared_adj"
   ]
  },
  {
   "cell_type": "code",
   "execution_count": 56,
   "id": "90492a8e",
   "metadata": {},
   "outputs": [
    {
     "name": "stderr",
     "output_type": "stream",
     "text": [
      "C:\\Users\\HP\\anaconda3\\envs\\py36\\lib\\site-packages\\statsmodels\\regression\\linear_model.py:1860: RuntimeWarning: divide by zero encountered in double_scalars\n",
      "  return np.sqrt(eigvals[0]/eigvals[-1])\n"
     ]
    },
    {
     "data": {
      "text/html": [
       "<table class=\"simpletable\">\n",
       "<caption>OLS Regression Results</caption>\n",
       "<tr>\n",
       "  <th>Dep. Variable:</th>          <td>Price</td>      <th>  R-squared:         </th> <td>   0.813</td>\n",
       "</tr>\n",
       "<tr>\n",
       "  <th>Model:</th>                   <td>OLS</td>       <th>  Adj. R-squared:    </th> <td>   0.812</td>\n",
       "</tr>\n",
       "<tr>\n",
       "  <th>Method:</th>             <td>Least Squares</td>  <th>  F-statistic:       </th> <td>   789.5</td>\n",
       "</tr>\n",
       "<tr>\n",
       "  <th>Date:</th>             <td>Fri, 08 Nov 2024</td> <th>  Prob (F-statistic):</th>  <td>  0.00</td> \n",
       "</tr>\n",
       "<tr>\n",
       "  <th>Time:</th>                 <td>11:56:35</td>     <th>  Log-Likelihood:    </th> <td> -638.09</td>\n",
       "</tr>\n",
       "<tr>\n",
       "  <th>No. Observations:</th>      <td>  1098</td>      <th>  AIC:               </th> <td>   1290.</td>\n",
       "</tr>\n",
       "<tr>\n",
       "  <th>Df Residuals:</th>          <td>  1091</td>      <th>  BIC:               </th> <td>   1325.</td>\n",
       "</tr>\n",
       "<tr>\n",
       "  <th>Df Model:</th>              <td>     6</td>      <th>                     </th>     <td> </td>   \n",
       "</tr>\n",
       "<tr>\n",
       "  <th>Covariance Type:</th>      <td>nonrobust</td>    <th>                     </th>     <td> </td>   \n",
       "</tr>\n",
       "</table>\n",
       "<table class=\"simpletable\">\n",
       "<tr>\n",
       "      <td></td>         <th>coef</th>     <th>std err</th>      <th>t</th>      <th>P>|t|</th>  <th>[0.025</th>    <th>0.975]</th>  \n",
       "</tr>\n",
       "<tr>\n",
       "  <th>Intercept</th> <td> 3.517e-16</td> <td>    0.013</td> <td> 2.69e-14</td> <td> 1.000</td> <td>   -0.026</td> <td>    0.026</td>\n",
       "</tr>\n",
       "<tr>\n",
       "  <th>Age_08_04</th> <td>   -0.7024</td> <td>    0.017</td> <td>  -41.462</td> <td> 0.000</td> <td>   -0.736</td> <td>   -0.669</td>\n",
       "</tr>\n",
       "<tr>\n",
       "  <th>KM</th>        <td>   -0.1708</td> <td>    0.016</td> <td>  -10.988</td> <td> 0.000</td> <td>   -0.201</td> <td>   -0.140</td>\n",
       "</tr>\n",
       "<tr>\n",
       "  <th>HP</th>        <td>    0.1157</td> <td>    0.017</td> <td>    6.867</td> <td> 0.000</td> <td>    0.083</td> <td>    0.149</td>\n",
       "</tr>\n",
       "<tr>\n",
       "  <th>Automatic</th> <td>-3.505e-17</td> <td> 1.16e-17</td> <td>   -3.012</td> <td> 0.003</td> <td>-5.79e-17</td> <td>-1.22e-17</td>\n",
       "</tr>\n",
       "<tr>\n",
       "  <th>cc</th>        <td>   -0.1306</td> <td>    0.021</td> <td>   -6.182</td> <td> 0.000</td> <td>   -0.172</td> <td>   -0.089</td>\n",
       "</tr>\n",
       "<tr>\n",
       "  <th>Doors</th>     <td>   -0.0160</td> <td>    0.016</td> <td>   -0.996</td> <td> 0.320</td> <td>   -0.048</td> <td>    0.016</td>\n",
       "</tr>\n",
       "<tr>\n",
       "  <th>Cylinders</th> <td>         0</td> <td>        0</td> <td>      nan</td> <td>   nan</td> <td>        0</td> <td>        0</td>\n",
       "</tr>\n",
       "<tr>\n",
       "  <th>Gears</th>     <td>         0</td> <td>        0</td> <td>      nan</td> <td>   nan</td> <td>        0</td> <td>        0</td>\n",
       "</tr>\n",
       "<tr>\n",
       "  <th>Weight</th>    <td>    0.2479</td> <td>    0.022</td> <td>   11.140</td> <td> 0.000</td> <td>    0.204</td> <td>    0.292</td>\n",
       "</tr>\n",
       "</table>\n",
       "<table class=\"simpletable\">\n",
       "<tr>\n",
       "  <th>Omnibus:</th>       <td>31.933</td> <th>  Durbin-Watson:     </th> <td>   1.965</td>\n",
       "</tr>\n",
       "<tr>\n",
       "  <th>Prob(Omnibus):</th> <td> 0.000</td> <th>  Jarque-Bera (JB):  </th> <td>  61.378</td>\n",
       "</tr>\n",
       "<tr>\n",
       "  <th>Skew:</th>          <td>-0.178</td> <th>  Prob(JB):          </th> <td>4.70e-14</td>\n",
       "</tr>\n",
       "<tr>\n",
       "  <th>Kurtosis:</th>      <td> 4.102</td> <th>  Cond. No.          </th> <td>     inf</td>\n",
       "</tr>\n",
       "</table><br/><br/>Notes:<br/>[1] Standard Errors assume that the covariance matrix of the errors is correctly specified.<br/>[2] The smallest eigenvalue is      0. This might indicate that there are<br/>strong multicollinearity problems or that the design matrix is singular."
      ],
      "text/plain": [
       "<class 'statsmodels.iolib.summary.Summary'>\n",
       "\"\"\"\n",
       "                            OLS Regression Results                            \n",
       "==============================================================================\n",
       "Dep. Variable:                  Price   R-squared:                       0.813\n",
       "Model:                            OLS   Adj. R-squared:                  0.812\n",
       "Method:                 Least Squares   F-statistic:                     789.5\n",
       "Date:                Fri, 08 Nov 2024   Prob (F-statistic):               0.00\n",
       "Time:                        11:56:35   Log-Likelihood:                -638.09\n",
       "No. Observations:                1098   AIC:                             1290.\n",
       "Df Residuals:                    1091   BIC:                             1325.\n",
       "Df Model:                           6                                         \n",
       "Covariance Type:            nonrobust                                         \n",
       "==============================================================================\n",
       "                 coef    std err          t      P>|t|      [0.025      0.975]\n",
       "------------------------------------------------------------------------------\n",
       "Intercept   3.517e-16      0.013   2.69e-14      1.000      -0.026       0.026\n",
       "Age_08_04     -0.7024      0.017    -41.462      0.000      -0.736      -0.669\n",
       "KM            -0.1708      0.016    -10.988      0.000      -0.201      -0.140\n",
       "HP             0.1157      0.017      6.867      0.000       0.083       0.149\n",
       "Automatic  -3.505e-17   1.16e-17     -3.012      0.003   -5.79e-17   -1.22e-17\n",
       "cc            -0.1306      0.021     -6.182      0.000      -0.172      -0.089\n",
       "Doors         -0.0160      0.016     -0.996      0.320      -0.048       0.016\n",
       "Cylinders           0          0        nan        nan           0           0\n",
       "Gears               0          0        nan        nan           0           0\n",
       "Weight         0.2479      0.022     11.140      0.000       0.204       0.292\n",
       "==============================================================================\n",
       "Omnibus:                       31.933   Durbin-Watson:                   1.965\n",
       "Prob(Omnibus):                  0.000   Jarque-Bera (JB):               61.378\n",
       "Skew:                          -0.178   Prob(JB):                     4.70e-14\n",
       "Kurtosis:                       4.102   Cond. No.                          inf\n",
       "==============================================================================\n",
       "\n",
       "Notes:\n",
       "[1] Standard Errors assume that the covariance matrix of the errors is correctly specified.\n",
       "[2] The smallest eigenvalue is      0. This might indicate that there are\n",
       "strong multicollinearity problems or that the design matrix is singular.\n",
       "\"\"\""
      ]
     },
     "execution_count": 56,
     "metadata": {},
     "output_type": "execute_result"
    }
   ],
   "source": [
    "model1.summary()"
   ]
  },
  {
   "cell_type": "markdown",
   "id": "330e1599",
   "metadata": {},
   "source": [
    "## lasso second"
   ]
  },
  {
   "cell_type": "code",
   "execution_count": 57,
   "id": "8f2508b2",
   "metadata": {},
   "outputs": [],
   "source": [
    "from sklearn.linear_model import Lasso\n",
    "from sklearn.model_selection import GridSearchCV"
   ]
  },
  {
   "cell_type": "code",
   "execution_count": 58,
   "id": "4d97f858",
   "metadata": {},
   "outputs": [],
   "source": [
    "lasso = Lasso(alpha=1)"
   ]
  },
  {
   "cell_type": "code",
   "execution_count": 59,
   "id": "2288ef54",
   "metadata": {},
   "outputs": [
    {
     "data": {
      "text/plain": [
       "Lasso(alpha=1)"
      ]
     },
     "execution_count": 59,
     "metadata": {},
     "output_type": "execute_result"
    }
   ],
   "source": [
    "lasso.fit(x_train,y_train)"
   ]
  },
  {
   "cell_type": "code",
   "execution_count": 60,
   "id": "d4258349",
   "metadata": {},
   "outputs": [],
   "source": [
    "params={'alpha':[1,2,3,4,6,7,8,9,10]}"
   ]
  },
  {
   "cell_type": "code",
   "execution_count": 61,
   "id": "4ba4bf85",
   "metadata": {},
   "outputs": [],
   "source": [
    "grid_search=GridSearchCV(lasso,params)"
   ]
  },
  {
   "cell_type": "code",
   "execution_count": 62,
   "id": "42c83602",
   "metadata": {},
   "outputs": [
    {
     "data": {
      "text/plain": [
       "GridSearchCV(estimator=Lasso(alpha=1),\n",
       "             param_grid={'alpha': [1, 2, 3, 4, 6, 7, 8, 9, 10]})"
      ]
     },
     "execution_count": 62,
     "metadata": {},
     "output_type": "execute_result"
    }
   ],
   "source": [
    "grid_search.fit(x_train,y_train)"
   ]
  },
  {
   "cell_type": "code",
   "execution_count": 63,
   "id": "4456f7aa",
   "metadata": {},
   "outputs": [],
   "source": [
    "y_pred=lasso.predict(x_test)"
   ]
  },
  {
   "cell_type": "code",
   "execution_count": 64,
   "id": "d0cfc006",
   "metadata": {},
   "outputs": [
    {
     "data": {
      "text/plain": [
       "-0.0052178669643137"
      ]
     },
     "execution_count": 64,
     "metadata": {},
     "output_type": "execute_result"
    }
   ],
   "source": [
    "r2_score(y_test,y_pred)"
   ]
  },
  {
   "cell_type": "code",
   "execution_count": 65,
   "id": "fbb7083e",
   "metadata": {},
   "outputs": [
    {
     "data": {
      "text/plain": [
       "{'alpha': 1}"
      ]
     },
     "execution_count": 65,
     "metadata": {},
     "output_type": "execute_result"
    }
   ],
   "source": [
    "grid_search.best_params_"
   ]
  },
  {
   "cell_type": "code",
   "execution_count": 66,
   "id": "45bfe52c",
   "metadata": {},
   "outputs": [
    {
     "data": {
      "text/plain": [
       "0.014062075611552257"
      ]
     },
     "execution_count": 66,
     "metadata": {},
     "output_type": "execute_result"
    }
   ],
   "source": [
    "lasso.intercept_"
   ]
  },
  {
   "cell_type": "code",
   "execution_count": 67,
   "id": "4703f112",
   "metadata": {},
   "outputs": [
    {
     "data": {
      "text/plain": [
       "array([-0., -0.,  0.,  0.,  0.,  0.,  0.,  0.,  0.])"
      ]
     },
     "execution_count": 67,
     "metadata": {},
     "output_type": "execute_result"
    }
   ],
   "source": [
    "lasso.coef_"
   ]
  },
  {
   "cell_type": "markdown",
   "id": "4538a17c",
   "metadata": {},
   "source": [
    "## Ridge third"
   ]
  },
  {
   "cell_type": "code",
   "execution_count": 68,
   "id": "0e6b2230",
   "metadata": {},
   "outputs": [],
   "source": [
    "from sklearn.linear_model import Ridge"
   ]
  },
  {
   "cell_type": "code",
   "execution_count": 69,
   "id": "c7def375",
   "metadata": {},
   "outputs": [],
   "source": [
    "ridge=Ridge(alpha=1)"
   ]
  },
  {
   "cell_type": "code",
   "execution_count": 70,
   "id": "677b0b1b",
   "metadata": {},
   "outputs": [
    {
     "data": {
      "text/plain": [
       "Ridge(alpha=1)"
      ]
     },
     "execution_count": 70,
     "metadata": {},
     "output_type": "execute_result"
    }
   ],
   "source": [
    "ridge.fit(x_train,y_train)"
   ]
  },
  {
   "cell_type": "code",
   "execution_count": 71,
   "id": "4c864381",
   "metadata": {},
   "outputs": [],
   "source": [
    "y_pred=ridge.predict(x_test)"
   ]
  },
  {
   "cell_type": "code",
   "execution_count": 72,
   "id": "73ac69ff",
   "metadata": {},
   "outputs": [
    {
     "data": {
      "text/plain": [
       "0.8041107056339928"
      ]
     },
     "execution_count": 72,
     "metadata": {},
     "output_type": "execute_result"
    }
   ],
   "source": [
    "r2_score(y_test,y_pred)"
   ]
  },
  {
   "cell_type": "code",
   "execution_count": 73,
   "id": "52e13154",
   "metadata": {},
   "outputs": [],
   "source": [
    "params=dict(alpha=range(1,100))"
   ]
  },
  {
   "cell_type": "code",
   "execution_count": 74,
   "id": "4d349110",
   "metadata": {},
   "outputs": [
    {
     "data": {
      "text/plain": [
       "{'alpha': range(1, 100)}"
      ]
     },
     "execution_count": 74,
     "metadata": {},
     "output_type": "execute_result"
    }
   ],
   "source": [
    "params"
   ]
  },
  {
   "cell_type": "code",
   "execution_count": 75,
   "id": "c543f7da",
   "metadata": {},
   "outputs": [],
   "source": [
    "grid_search=GridSearchCV(ridge,params)"
   ]
  },
  {
   "cell_type": "code",
   "execution_count": 76,
   "id": "d95b3c6a",
   "metadata": {},
   "outputs": [
    {
     "data": {
      "text/plain": [
       "GridSearchCV(estimator=Ridge(alpha=1), param_grid={'alpha': range(1, 100)})"
      ]
     },
     "execution_count": 76,
     "metadata": {},
     "output_type": "execute_result"
    }
   ],
   "source": [
    "grid_search.fit(x_train,y_train)"
   ]
  },
  {
   "cell_type": "code",
   "execution_count": 77,
   "id": "2b11d8c8",
   "metadata": {},
   "outputs": [
    {
     "data": {
      "text/plain": [
       "{'alpha': 5}"
      ]
     },
     "execution_count": 77,
     "metadata": {},
     "output_type": "execute_result"
    }
   ],
   "source": [
    "grid_search.best_params_"
   ]
  },
  {
   "cell_type": "code",
   "execution_count": 78,
   "id": "4af258e8",
   "metadata": {},
   "outputs": [
    {
     "data": {
      "text/plain": [
       "array([-0.69877836, -0.18650251,  0.09588457,  0.        , -0.12065073,\n",
       "       -0.01825135,  0.        ,  0.        ,  0.24555596])"
      ]
     },
     "execution_count": 78,
     "metadata": {},
     "output_type": "execute_result"
    }
   ],
   "source": [
    "ridge.coef_"
   ]
  },
  {
   "cell_type": "code",
   "execution_count": 79,
   "id": "30a470be",
   "metadata": {},
   "outputs": [
    {
     "data": {
      "text/plain": [
       "0.006484840298728786"
      ]
     },
     "execution_count": 79,
     "metadata": {},
     "output_type": "execute_result"
    }
   ],
   "source": [
    "ridge.intercept_"
   ]
  },
  {
   "cell_type": "markdown",
   "id": "c645ca74",
   "metadata": {},
   "source": [
    "## 4. Evaluate the performance of the model using appropriate evaluation metrics on the testing dataset."
   ]
  },
  {
   "cell_type": "code",
   "execution_count": 80,
   "id": "65d40e04",
   "metadata": {},
   "outputs": [
    {
     "name": "stdout",
     "output_type": "stream",
     "text": [
      "---OLS Model---\n",
      "R-squared (R²): 0.8084021256207008\n",
      "Mean Absolute Error (MAE): 0.3364336944173631\n",
      "Mean Squared Error (MSE): 0.18086555307578955\n",
      "Root Mean Squared Error (RMSE): 0.42528290945650465\n",
      "\n",
      "\n",
      "---Lasso Model---\n",
      "R-squared (R²): -0.0052178669643137\n",
      "Mean Absolute Error (MAE): 0.7824661936151337\n",
      "Mean Squared Error (MSE): 0.9489107645852318\n",
      "Root Mean Squared Error (RMSE): 0.9741205082458904\n",
      "\n",
      "\n",
      "---Ridge Model---\n",
      "R-squared (R²): 0.8041107056339928\n",
      "Mean Absolute Error (MAE): 0.3392789346500696\n",
      "Mean Squared Error (MSE): 0.1849165899251853\n",
      "Root Mean Squared Error (RMSE): 0.4300192901779934\n",
      "\n",
      "\n"
     ]
    }
   ],
   "source": [
    "from sklearn.metrics import mean_absolute_error, mean_squared_error, r2_score\n",
    "import numpy as np\n",
    "\n",
    "# Predictions from each model\n",
    "y_pred_ols = model1.predict(x_test)           # OLS model\n",
    "y_pred_lasso = lasso.predict(x_test)          # Lasso model\n",
    "y_pred_ridge = ridge.predict(x_test)          # Ridge model\n",
    "\n",
    "# Dictionary to store results\n",
    "results = {}\n",
    "\n",
    "# Function to evaluate a model's performance\n",
    "def evaluate_model(y_test, y_pred, model_name):\n",
    "    r2 = r2_score(y_test, y_pred)\n",
    "    mae = mean_absolute_error(y_test, y_pred)\n",
    "    mse = mean_squared_error(y_test, y_pred)\n",
    "    rmse = np.sqrt(mse)\n",
    "    \n",
    "    print(f\"---{model_name}---\")\n",
    "    print(f\"R-squared (R²): {r2}\")\n",
    "    print(f\"Mean Absolute Error (MAE): {mae}\")\n",
    "    print(f\"Mean Squared Error (MSE): {mse}\")\n",
    "    print(f\"Root Mean Squared Error (RMSE): {rmse}\")\n",
    "    print(\"\\n\")\n",
    "    \n",
    "    # Store the results in a dictionary for comparison\n",
    "    results[model_name] = {\n",
    "        'R2': r2,\n",
    "        'MAE': mae,\n",
    "        'MSE': mse,\n",
    "        'RMSE': rmse\n",
    "    }\n",
    "\n",
    "# Evaluate each model\n",
    "evaluate_model(y_test, y_pred_ols, \"OLS Model\")\n",
    "evaluate_model(y_test, y_pred_lasso, \"Lasso Model\")\n",
    "evaluate_model(y_test, y_pred_ridge, \"Ridge Model\")\n"
   ]
  },
  {
   "cell_type": "markdown",
   "id": "26fb5a1f",
   "metadata": {},
   "source": [
    "## 5. Apply Lasso and Ridge methods on the model."
   ]
  },
  {
   "cell_type": "code",
   "execution_count": 81,
   "id": "db21e2e2",
   "metadata": {},
   "outputs": [
    {
     "name": "stdout",
     "output_type": "stream",
     "text": [
      "Best alpha for Lasso: 0.1\n",
      "Lasso Regression R2: 0.7749590407486541\n",
      "Lasso Regression MSE: 0.21243532941876148\n",
      "Lasso Regression RMSE: 0.460907072433003\n"
     ]
    }
   ],
   "source": [
    "from sklearn.linear_model import Lasso\n",
    "from sklearn.model_selection import GridSearchCV\n",
    "from sklearn.metrics import r2_score, mean_squared_error\n",
    "\n",
    "# Define the Lasso model\n",
    "lasso = Lasso()\n",
    "\n",
    "# Define a range of alpha values for hyperparameter tuning\n",
    "lasso_params = {'alpha': [0.1, 0.5, 1, 5, 10, 20, 50, 100]}\n",
    "\n",
    "# Grid search to find the best alpha\n",
    "lasso_grid = GridSearchCV(lasso, lasso_params, cv=5)\n",
    "lasso_grid.fit(x_train, y_train)\n",
    "\n",
    "# Best alpha for Lasso\n",
    "best_alpha_lasso = lasso_grid.best_params_['alpha']\n",
    "print(f\"Best alpha for Lasso: {best_alpha_lasso}\")\n",
    "\n",
    "# Train the Lasso model with the best alpha\n",
    "lasso_best = Lasso(alpha=best_alpha_lasso)\n",
    "lasso_best.fit(x_train, y_train)\n",
    "\n",
    "# Predictions on test data\n",
    "y_pred_lasso = lasso_best.predict(x_test)\n",
    "\n",
    "# Evaluation metrics\n",
    "lasso_r2 = r2_score(y_test, y_pred_lasso)\n",
    "lasso_mse = mean_squared_error(y_test, y_pred_lasso)\n",
    "lasso_rmse = np.sqrt(lasso_mse)\n",
    "\n",
    "print(f\"Lasso Regression R2: {lasso_r2}\")\n",
    "print(f\"Lasso Regression MSE: {lasso_mse}\")\n",
    "print(f\"Lasso Regression RMSE: {lasso_rmse}\")\n"
   ]
  },
  {
   "cell_type": "code",
   "execution_count": 82,
   "id": "b217a241",
   "metadata": {},
   "outputs": [
    {
     "name": "stdout",
     "output_type": "stream",
     "text": [
      "Best alpha for Ridge: 5\n",
      "Ridge Regression R2: 0.8039704950901783\n",
      "Ridge Regression MSE: 0.18504894659999824\n",
      "Ridge Regression RMSE: 0.4301731588558243\n"
     ]
    }
   ],
   "source": [
    "from sklearn.linear_model import Ridge\n",
    "\n",
    "# Define the Ridge model\n",
    "ridge = Ridge()\n",
    "\n",
    "# Define a range of alpha values for hyperparameter tuning\n",
    "ridge_params = {'alpha': [0.1, 0.5, 1, 5, 10, 20, 50, 100]}\n",
    "\n",
    "# Grid search to find the best alpha\n",
    "ridge_grid = GridSearchCV(ridge, ridge_params, cv=5)\n",
    "ridge_grid.fit(x_train, y_train)\n",
    "\n",
    "# Best alpha for Ridge\n",
    "best_alpha_ridge = ridge_grid.best_params_['alpha']\n",
    "print(f\"Best alpha for Ridge: {best_alpha_ridge}\")\n",
    "\n",
    "# Train the Ridge model with the best alpha\n",
    "ridge_best = Ridge(alpha=best_alpha_ridge)\n",
    "ridge_best.fit(x_train, y_train)\n",
    "\n",
    "# Predictions on test data\n",
    "y_pred_ridge = ridge_best.predict(x_test)\n",
    "\n",
    "# Evaluation metrics\n",
    "ridge_r2 = r2_score(y_test, y_pred_ridge)\n",
    "ridge_mse = mean_squared_error(y_test, y_pred_ridge)\n",
    "ridge_rmse = np.sqrt(ridge_mse)\n",
    "\n",
    "print(f\"Ridge Regression R2: {ridge_r2}\")\n",
    "print(f\"Ridge Regression MSE: {ridge_mse}\")\n",
    "print(f\"Ridge Regression RMSE: {ridge_rmse}\")\n"
   ]
  },
  {
   "cell_type": "markdown",
   "id": "087188f5",
   "metadata": {},
   "source": [
    "## Interview Questions"
   ]
  },
  {
   "cell_type": "markdown",
   "id": "0ddb97ad",
   "metadata": {},
   "source": [
    "### 1.What is Normalization & Standardization and how is it helpful?"
   ]
  },
  {
   "cell_type": "markdown",
   "id": "828e508e",
   "metadata": {},
   "source": [
    "### Ans :-\n",
    "Normalization scales data to a fixed range, usually 0 to 1. It’s ideal for algorithms like k-Nearest Neighbors and Neural Networks, where distances between data points are important. Use normalization when features don’t follow a normal distribution and you want all values within the same range.\n",
    "\n",
    "Standardization adjusts data to have a mean of 0 and a standard deviation of 1, making it follow a standard normal distribution. This method is useful for algorithms that assume normality (like Linear Regression, Logistic Regression, and SVMs). It’s suitable when data has features on different scales or units.\n",
    "\n",
    "Both techniques improve model performance by ensuring consistent feature scales, speeding up convergence, and reducing bias in algorithms sensitive to feature magnitudes."
   ]
  },
  {
   "cell_type": "markdown",
   "id": "730db0dc",
   "metadata": {},
   "source": [
    "### 2. What techniques can be used to address multicollinearity in multiple linear regression?"
   ]
  },
  {
   "cell_type": "markdown",
   "id": "3fdf0aa7",
   "metadata": {},
   "source": [
    "### Ans :-\n",
    "To address multicollinearity in multiple linear regression:\n",
    "\n",
    "--> Remove Highly Correlated Predictors: Identify and drop one of the highly correlated features using a correlation matrix\n",
    "\n",
    "--> Regularization (Ridge & Lasso): Use Ridge (L2) to shrink coefficients or Lasso (L1) to set some coefficients to zero, reducing multicollinearity without removing variables directly.\n",
    "\n",
    "--> Combine Correlated Variables: Aggregate correlated variables into a single feature, which retains information while reducing redundancy.\n",
    "\n",
    "--> Collect More Data: Increasing sample size can help address multicollinearity, especially when it arises from limited data."
   ]
  },
  {
   "cell_type": "code",
   "execution_count": 83,
   "id": "1d436362",
   "metadata": {},
   "outputs": [],
   "source": [
    "## end"
   ]
  }
 ],
 "metadata": {
  "kernelspec": {
   "display_name": "Python 3 (ipykernel)",
   "language": "python",
   "name": "python3"
  },
  "language_info": {
   "codemirror_mode": {
    "name": "ipython",
    "version": 3
   },
   "file_extension": ".py",
   "mimetype": "text/x-python",
   "name": "python",
   "nbconvert_exporter": "python",
   "pygments_lexer": "ipython3",
   "version": "3.12.7"
  }
 },
 "nbformat": 4,
 "nbformat_minor": 5
}
